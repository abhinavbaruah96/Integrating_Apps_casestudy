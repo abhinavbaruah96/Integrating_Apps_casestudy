{
 "cells": [
  {
   "cell_type": "markdown",
   "metadata": {
    "colab_type": "text",
    "id": "i2RUFW7TFcuh"
   },
   "source": [
    "# Springboard Apps project - Tier 3 - Complete\n",
    "\n",
    "Welcome to the Apps project! To give you a taste of your future career, we're going to walk through exactly the kind of notebook that you'd write as a data scientist. In the process, we'll be sure to signpost the general framework for our investigation - the Data Science Pipeline - as well as give reasons for why we're doing what we're doing. We're also going to apply some of the skills and knowledge you've built up in the previous unit when reading Professor Spiegelhalter's *The Art of Statistics* (hereinafter *AoS*). \n",
    "\n",
    "So let's get cracking!\n",
    "\n",
    "**Brief**\n",
    "\n",
    "Did Apple Store apps receive better reviews than Google Play apps?\n",
    "\n",
    "## Stages of the project\n",
    "\n",
    "1. Sourcing and loading \n",
    "    * Load the two datasets\n",
    "    * Pick the columns that we are going to work with \n",
    "    * Subsetting the data on this basis \n",
    " \n",
    " \n",
    "2. Cleaning, transforming and visualizing\n",
    "    * Check the data types and fix them\n",
    "    * Add a `platform` column to both the `Apple` and the `Google` dataframes\n",
    "    * Changing the column names to prepare for a join \n",
    "    * Join the two data sets\n",
    "    * Eliminate the `NaN` values\n",
    "    * Filter only those apps that have been reviewed at least once\n",
    "    * Summarize the data visually and analytically (by the column `platform`)  \n",
    "  \n",
    "  \n",
    "3. Modelling \n",
    "    * Hypothesis formulation\n",
    "    * Getting the distribution of the data\n",
    "    * Permutation test \n",
    "\n",
    "\n",
    "4. Evaluating and concluding \n",
    "    * What is our conclusion?\n",
    "    * What is our decision?\n",
    "    * Other models we could have used. \n",
    "    "
   ]
  },
  {
   "cell_type": "markdown",
   "metadata": {
    "colab_type": "text",
    "id": "QLUAXtl1Fcuk"
   },
   "source": [
    "## Importing the libraries\n",
    "\n",
    "In this case we are going to import pandas, numpy, scipy, random and matplotlib.pyplot"
   ]
  },
  {
   "cell_type": "code",
   "execution_count": 167,
   "metadata": {
    "colab": {},
    "colab_type": "code",
    "id": "XeXJOlGiFcum"
   },
   "outputs": [],
   "source": [
    "import pandas as pd\n",
    "import numpy as np\n",
    "import matplotlib.pyplot as plt\n",
    "# scipi is a library for statistical tests and visualizations \n",
    "from scipy import stats\n",
    "# random enables us to generate random numbers\n",
    "import random"
   ]
  },
  {
   "cell_type": "markdown",
   "metadata": {
    "colab_type": "text",
    "id": "zVD7NlPAFcup"
   },
   "source": [
    "## Stage 1 -  Sourcing and loading data"
   ]
  },
  {
   "cell_type": "code",
   "execution_count": 168,
   "metadata": {},
   "outputs": [],
   "source": [
    "import os"
   ]
  },
  {
   "cell_type": "code",
   "execution_count": 169,
   "metadata": {},
   "outputs": [
    {
     "data": {
      "text/plain": [
       "['.ipynb_checkpoints',\n",
       " 'AppleStore.csv',\n",
       " 'appleStore_description.csv',\n",
       " 'googleplaystore.csv',\n",
       " 'googleplaystore_user_reviews.csv',\n",
       " 'Springboard Apps project - Tier 1 - Complete.ipynb',\n",
       " 'Springboard Apps project - Tier 2 - Complete.ipynb',\n",
       " 'Springboard Apps project - Tier 3 - Complete.ipynb']"
      ]
     },
     "execution_count": 169,
     "metadata": {},
     "output_type": "execute_result"
    }
   ],
   "source": [
    "os.listdir(os.getcwd())"
   ]
  },
  {
   "cell_type": "markdown",
   "metadata": {
    "colab_type": "text",
    "id": "KU8bdbImFcuq"
   },
   "source": [
    "### 1a. Source and load the data\n",
    "Let's download the data from Kaggle. Kaggle is a fantastic resource: a kind of social medium for data scientists, it boasts projects, datasets and news on the freshest libraries and technologies all in one place. The data from the Apple Store can be found [here](https://www.kaggle.com/ramamet4/app-store-apple-data-set-10k-apps) and the data from Google Store can be found [here](https://www.kaggle.com/lava18/google-play-store-apps).\n",
    "Download the datasets and save them in your working directory."
   ]
  },
  {
   "cell_type": "code",
   "execution_count": 170,
   "metadata": {
    "colab": {},
    "colab_type": "code",
    "id": "laM1PB76Fcur"
   },
   "outputs": [
    {
     "data": {
      "text/html": [
       "<div>\n",
       "<style scoped>\n",
       "    .dataframe tbody tr th:only-of-type {\n",
       "        vertical-align: middle;\n",
       "    }\n",
       "\n",
       "    .dataframe tbody tr th {\n",
       "        vertical-align: top;\n",
       "    }\n",
       "\n",
       "    .dataframe thead th {\n",
       "        text-align: right;\n",
       "    }\n",
       "</style>\n",
       "<table border=\"1\" class=\"dataframe\">\n",
       "  <thead>\n",
       "    <tr style=\"text-align: right;\">\n",
       "      <th></th>\n",
       "      <th>App</th>\n",
       "      <th>Category</th>\n",
       "      <th>Rating</th>\n",
       "      <th>Reviews</th>\n",
       "      <th>Size</th>\n",
       "      <th>Installs</th>\n",
       "      <th>Type</th>\n",
       "      <th>Price</th>\n",
       "      <th>Content Rating</th>\n",
       "      <th>Genres</th>\n",
       "      <th>Last Updated</th>\n",
       "      <th>Current Ver</th>\n",
       "      <th>Android Ver</th>\n",
       "    </tr>\n",
       "  </thead>\n",
       "  <tbody>\n",
       "    <tr>\n",
       "      <th>0</th>\n",
       "      <td>Photo Editor &amp; Candy Camera &amp; Grid &amp; ScrapBook</td>\n",
       "      <td>ART_AND_DESIGN</td>\n",
       "      <td>4.1</td>\n",
       "      <td>159</td>\n",
       "      <td>19M</td>\n",
       "      <td>10,000+</td>\n",
       "      <td>Free</td>\n",
       "      <td>0</td>\n",
       "      <td>Everyone</td>\n",
       "      <td>Art &amp; Design</td>\n",
       "      <td>January 7, 2018</td>\n",
       "      <td>1.0.0</td>\n",
       "      <td>4.0.3 and up</td>\n",
       "    </tr>\n",
       "    <tr>\n",
       "      <th>1</th>\n",
       "      <td>Coloring book moana</td>\n",
       "      <td>ART_AND_DESIGN</td>\n",
       "      <td>3.9</td>\n",
       "      <td>967</td>\n",
       "      <td>14M</td>\n",
       "      <td>500,000+</td>\n",
       "      <td>Free</td>\n",
       "      <td>0</td>\n",
       "      <td>Everyone</td>\n",
       "      <td>Art &amp; Design;Pretend Play</td>\n",
       "      <td>January 15, 2018</td>\n",
       "      <td>2.0.0</td>\n",
       "      <td>4.0.3 and up</td>\n",
       "    </tr>\n",
       "    <tr>\n",
       "      <th>2</th>\n",
       "      <td>U Launcher Lite – FREE Live Cool Themes, Hide ...</td>\n",
       "      <td>ART_AND_DESIGN</td>\n",
       "      <td>4.7</td>\n",
       "      <td>87510</td>\n",
       "      <td>8.7M</td>\n",
       "      <td>5,000,000+</td>\n",
       "      <td>Free</td>\n",
       "      <td>0</td>\n",
       "      <td>Everyone</td>\n",
       "      <td>Art &amp; Design</td>\n",
       "      <td>August 1, 2018</td>\n",
       "      <td>1.2.4</td>\n",
       "      <td>4.0.3 and up</td>\n",
       "    </tr>\n",
       "    <tr>\n",
       "      <th>3</th>\n",
       "      <td>Sketch - Draw &amp; Paint</td>\n",
       "      <td>ART_AND_DESIGN</td>\n",
       "      <td>4.5</td>\n",
       "      <td>215644</td>\n",
       "      <td>25M</td>\n",
       "      <td>50,000,000+</td>\n",
       "      <td>Free</td>\n",
       "      <td>0</td>\n",
       "      <td>Teen</td>\n",
       "      <td>Art &amp; Design</td>\n",
       "      <td>June 8, 2018</td>\n",
       "      <td>Varies with device</td>\n",
       "      <td>4.2 and up</td>\n",
       "    </tr>\n",
       "    <tr>\n",
       "      <th>4</th>\n",
       "      <td>Pixel Draw - Number Art Coloring Book</td>\n",
       "      <td>ART_AND_DESIGN</td>\n",
       "      <td>4.3</td>\n",
       "      <td>967</td>\n",
       "      <td>2.8M</td>\n",
       "      <td>100,000+</td>\n",
       "      <td>Free</td>\n",
       "      <td>0</td>\n",
       "      <td>Everyone</td>\n",
       "      <td>Art &amp; Design;Creativity</td>\n",
       "      <td>June 20, 2018</td>\n",
       "      <td>1.1</td>\n",
       "      <td>4.4 and up</td>\n",
       "    </tr>\n",
       "  </tbody>\n",
       "</table>\n",
       "</div>"
      ],
      "text/plain": [
       "                                                 App        Category  Rating  \\\n",
       "0     Photo Editor & Candy Camera & Grid & ScrapBook  ART_AND_DESIGN     4.1   \n",
       "1                                Coloring book moana  ART_AND_DESIGN     3.9   \n",
       "2  U Launcher Lite – FREE Live Cool Themes, Hide ...  ART_AND_DESIGN     4.7   \n",
       "3                              Sketch - Draw & Paint  ART_AND_DESIGN     4.5   \n",
       "4              Pixel Draw - Number Art Coloring Book  ART_AND_DESIGN     4.3   \n",
       "\n",
       "  Reviews  Size     Installs  Type Price Content Rating  \\\n",
       "0     159   19M      10,000+  Free     0       Everyone   \n",
       "1     967   14M     500,000+  Free     0       Everyone   \n",
       "2   87510  8.7M   5,000,000+  Free     0       Everyone   \n",
       "3  215644   25M  50,000,000+  Free     0           Teen   \n",
       "4     967  2.8M     100,000+  Free     0       Everyone   \n",
       "\n",
       "                      Genres      Last Updated         Current Ver  \\\n",
       "0               Art & Design   January 7, 2018               1.0.0   \n",
       "1  Art & Design;Pretend Play  January 15, 2018               2.0.0   \n",
       "2               Art & Design    August 1, 2018               1.2.4   \n",
       "3               Art & Design      June 8, 2018  Varies with device   \n",
       "4    Art & Design;Creativity     June 20, 2018                 1.1   \n",
       "\n",
       "    Android Ver  \n",
       "0  4.0.3 and up  \n",
       "1  4.0.3 and up  \n",
       "2  4.0.3 and up  \n",
       "3    4.2 and up  \n",
       "4    4.4 and up  "
      ]
     },
     "execution_count": 170,
     "metadata": {},
     "output_type": "execute_result"
    }
   ],
   "source": [
    "# Now that the files are saved, we want to load them into Python using read_csv and pandas.\n",
    "\n",
    "# Create a variable called google, and store in it the path of the csv file that contains your google dataset. \n",
    "# If your dataset is in the same folder as this notebook, the path will simply be the name of the file. \n",
    "#google\n",
    "\n",
    "# Read the csv file into a data frame called Google using the read_csv() pandas method.\n",
    "google = pd.read_csv('googleplaystore.csv')\n",
    "\n",
    "# Using the head() pandas method, observe the first three entries.\n",
    "google.head()"
   ]
  },
  {
   "cell_type": "code",
   "execution_count": 171,
   "metadata": {
    "colab": {},
    "colab_type": "code",
    "id": "3AW8EA1wFcuu"
   },
   "outputs": [
    {
     "data": {
      "text/html": [
       "<div>\n",
       "<style scoped>\n",
       "    .dataframe tbody tr th:only-of-type {\n",
       "        vertical-align: middle;\n",
       "    }\n",
       "\n",
       "    .dataframe tbody tr th {\n",
       "        vertical-align: top;\n",
       "    }\n",
       "\n",
       "    .dataframe thead th {\n",
       "        text-align: right;\n",
       "    }\n",
       "</style>\n",
       "<table border=\"1\" class=\"dataframe\">\n",
       "  <thead>\n",
       "    <tr style=\"text-align: right;\">\n",
       "      <th></th>\n",
       "      <th>Unnamed: 0</th>\n",
       "      <th>id</th>\n",
       "      <th>track_name</th>\n",
       "      <th>size_bytes</th>\n",
       "      <th>currency</th>\n",
       "      <th>price</th>\n",
       "      <th>rating_count_tot</th>\n",
       "      <th>rating_count_ver</th>\n",
       "      <th>user_rating</th>\n",
       "      <th>user_rating_ver</th>\n",
       "      <th>ver</th>\n",
       "      <th>cont_rating</th>\n",
       "      <th>prime_genre</th>\n",
       "      <th>sup_devices.num</th>\n",
       "      <th>ipadSc_urls.num</th>\n",
       "      <th>lang.num</th>\n",
       "      <th>vpp_lic</th>\n",
       "    </tr>\n",
       "  </thead>\n",
       "  <tbody>\n",
       "    <tr>\n",
       "      <th>0</th>\n",
       "      <td>1</td>\n",
       "      <td>281656475</td>\n",
       "      <td>PAC-MAN Premium</td>\n",
       "      <td>100788224</td>\n",
       "      <td>USD</td>\n",
       "      <td>3.99</td>\n",
       "      <td>21292</td>\n",
       "      <td>26</td>\n",
       "      <td>4.0</td>\n",
       "      <td>4.5</td>\n",
       "      <td>6.3.5</td>\n",
       "      <td>4+</td>\n",
       "      <td>Games</td>\n",
       "      <td>38</td>\n",
       "      <td>5</td>\n",
       "      <td>10</td>\n",
       "      <td>1</td>\n",
       "    </tr>\n",
       "    <tr>\n",
       "      <th>1</th>\n",
       "      <td>2</td>\n",
       "      <td>281796108</td>\n",
       "      <td>Evernote - stay organized</td>\n",
       "      <td>158578688</td>\n",
       "      <td>USD</td>\n",
       "      <td>0.00</td>\n",
       "      <td>161065</td>\n",
       "      <td>26</td>\n",
       "      <td>4.0</td>\n",
       "      <td>3.5</td>\n",
       "      <td>8.2.2</td>\n",
       "      <td>4+</td>\n",
       "      <td>Productivity</td>\n",
       "      <td>37</td>\n",
       "      <td>5</td>\n",
       "      <td>23</td>\n",
       "      <td>1</td>\n",
       "    </tr>\n",
       "    <tr>\n",
       "      <th>2</th>\n",
       "      <td>3</td>\n",
       "      <td>281940292</td>\n",
       "      <td>WeatherBug - Local Weather, Radar, Maps, Alerts</td>\n",
       "      <td>100524032</td>\n",
       "      <td>USD</td>\n",
       "      <td>0.00</td>\n",
       "      <td>188583</td>\n",
       "      <td>2822</td>\n",
       "      <td>3.5</td>\n",
       "      <td>4.5</td>\n",
       "      <td>5.0.0</td>\n",
       "      <td>4+</td>\n",
       "      <td>Weather</td>\n",
       "      <td>37</td>\n",
       "      <td>5</td>\n",
       "      <td>3</td>\n",
       "      <td>1</td>\n",
       "    </tr>\n",
       "    <tr>\n",
       "      <th>3</th>\n",
       "      <td>4</td>\n",
       "      <td>282614216</td>\n",
       "      <td>eBay: Best App to Buy, Sell, Save! Online Shop...</td>\n",
       "      <td>128512000</td>\n",
       "      <td>USD</td>\n",
       "      <td>0.00</td>\n",
       "      <td>262241</td>\n",
       "      <td>649</td>\n",
       "      <td>4.0</td>\n",
       "      <td>4.5</td>\n",
       "      <td>5.10.0</td>\n",
       "      <td>12+</td>\n",
       "      <td>Shopping</td>\n",
       "      <td>37</td>\n",
       "      <td>5</td>\n",
       "      <td>9</td>\n",
       "      <td>1</td>\n",
       "    </tr>\n",
       "    <tr>\n",
       "      <th>4</th>\n",
       "      <td>5</td>\n",
       "      <td>282935706</td>\n",
       "      <td>Bible</td>\n",
       "      <td>92774400</td>\n",
       "      <td>USD</td>\n",
       "      <td>0.00</td>\n",
       "      <td>985920</td>\n",
       "      <td>5320</td>\n",
       "      <td>4.5</td>\n",
       "      <td>5.0</td>\n",
       "      <td>7.5.1</td>\n",
       "      <td>4+</td>\n",
       "      <td>Reference</td>\n",
       "      <td>37</td>\n",
       "      <td>5</td>\n",
       "      <td>45</td>\n",
       "      <td>1</td>\n",
       "    </tr>\n",
       "  </tbody>\n",
       "</table>\n",
       "</div>"
      ],
      "text/plain": [
       "   Unnamed: 0         id                                         track_name  \\\n",
       "0           1  281656475                                    PAC-MAN Premium   \n",
       "1           2  281796108                          Evernote - stay organized   \n",
       "2           3  281940292    WeatherBug - Local Weather, Radar, Maps, Alerts   \n",
       "3           4  282614216  eBay: Best App to Buy, Sell, Save! Online Shop...   \n",
       "4           5  282935706                                              Bible   \n",
       "\n",
       "   size_bytes currency  price  rating_count_tot  rating_count_ver  \\\n",
       "0   100788224      USD   3.99             21292                26   \n",
       "1   158578688      USD   0.00            161065                26   \n",
       "2   100524032      USD   0.00            188583              2822   \n",
       "3   128512000      USD   0.00            262241               649   \n",
       "4    92774400      USD   0.00            985920              5320   \n",
       "\n",
       "   user_rating  user_rating_ver     ver cont_rating   prime_genre  \\\n",
       "0          4.0              4.5   6.3.5          4+         Games   \n",
       "1          4.0              3.5   8.2.2          4+  Productivity   \n",
       "2          3.5              4.5   5.0.0          4+       Weather   \n",
       "3          4.0              4.5  5.10.0         12+      Shopping   \n",
       "4          4.5              5.0   7.5.1          4+     Reference   \n",
       "\n",
       "   sup_devices.num  ipadSc_urls.num  lang.num  vpp_lic  \n",
       "0               38                5        10        1  \n",
       "1               37                5        23        1  \n",
       "2               37                5         3        1  \n",
       "3               37                5         9        1  \n",
       "4               37                5        45        1  "
      ]
     },
     "execution_count": 171,
     "metadata": {},
     "output_type": "execute_result"
    }
   ],
   "source": [
    "# Create a variable called apple, and store in it the path of the csv file that contains your apple dataset. \n",
    "\n",
    "\n",
    "# Read the csv file into a pandas DataFrame object called Apple.\n",
    "apple = pd.read_csv('AppleStore.csv')\n",
    "\n",
    "# Observe the first three entries like you did with your other data. \n",
    "apple.head()"
   ]
  },
  {
   "cell_type": "markdown",
   "metadata": {
    "colab_type": "text",
    "id": "vljOHKNTFcuw"
   },
   "source": [
    "### 1b. Pick the columns we'll work with\n",
    "\n",
    "From the documentation of these datasets, we can infer that the most appropriate columns to answer the brief are:\n",
    "\n",
    "1. Google:\n",
    "    * `Category` # Do we need this?\n",
    "    * `Rating`\n",
    "    * `Reviews`\n",
    "    * `Price` (maybe)\n",
    "2. Apple:    \n",
    "    * `prime_genre` # Do we need this?\n",
    "    * `user_rating` \n",
    "    * `rating_count_tot`\n",
    "    * `price` (maybe)"
   ]
  },
  {
   "cell_type": "markdown",
   "metadata": {
    "colab_type": "text",
    "id": "uf69AeTvFcux"
   },
   "source": [
    "### 1c. Subsetting accordingly\n",
    "\n",
    "Let's select only those columns that we want to work with from both datasets. We'll overwrite the subsets in the original variables."
   ]
  },
  {
   "cell_type": "code",
   "execution_count": 172,
   "metadata": {
    "colab": {},
    "colab_type": "code",
    "id": "LNSDXyjdFcuy"
   },
   "outputs": [
    {
     "data": {
      "text/html": [
       "<div>\n",
       "<style scoped>\n",
       "    .dataframe tbody tr th:only-of-type {\n",
       "        vertical-align: middle;\n",
       "    }\n",
       "\n",
       "    .dataframe tbody tr th {\n",
       "        vertical-align: top;\n",
       "    }\n",
       "\n",
       "    .dataframe thead th {\n",
       "        text-align: right;\n",
       "    }\n",
       "</style>\n",
       "<table border=\"1\" class=\"dataframe\">\n",
       "  <thead>\n",
       "    <tr style=\"text-align: right;\">\n",
       "      <th></th>\n",
       "      <th>Category</th>\n",
       "      <th>Rating</th>\n",
       "      <th>Reviews</th>\n",
       "      <th>Price</th>\n",
       "    </tr>\n",
       "  </thead>\n",
       "  <tbody>\n",
       "    <tr>\n",
       "      <th>0</th>\n",
       "      <td>ART_AND_DESIGN</td>\n",
       "      <td>4.1</td>\n",
       "      <td>159</td>\n",
       "      <td>0</td>\n",
       "    </tr>\n",
       "    <tr>\n",
       "      <th>1</th>\n",
       "      <td>ART_AND_DESIGN</td>\n",
       "      <td>3.9</td>\n",
       "      <td>967</td>\n",
       "      <td>0</td>\n",
       "    </tr>\n",
       "    <tr>\n",
       "      <th>2</th>\n",
       "      <td>ART_AND_DESIGN</td>\n",
       "      <td>4.7</td>\n",
       "      <td>87510</td>\n",
       "      <td>0</td>\n",
       "    </tr>\n",
       "  </tbody>\n",
       "</table>\n",
       "</div>"
      ],
      "text/plain": [
       "         Category  Rating Reviews Price\n",
       "0  ART_AND_DESIGN     4.1     159     0\n",
       "1  ART_AND_DESIGN     3.9     967     0\n",
       "2  ART_AND_DESIGN     4.7   87510     0"
      ]
     },
     "execution_count": 172,
     "metadata": {},
     "output_type": "execute_result"
    }
   ],
   "source": [
    "# Subset our DataFrame object Google by selecting just the variables ['Category', 'Rating', 'Reviews', 'Price'\n",
    "google = google[['Category','Rating','Reviews','Price']]\n",
    "\n",
    "# Check the first three entries\n",
    "google.iloc[:3]"
   ]
  },
  {
   "cell_type": "code",
   "execution_count": 173,
   "metadata": {
    "colab": {},
    "colab_type": "code",
    "id": "AVCtENPtFcu0"
   },
   "outputs": [
    {
     "data": {
      "text/html": [
       "<div>\n",
       "<style scoped>\n",
       "    .dataframe tbody tr th:only-of-type {\n",
       "        vertical-align: middle;\n",
       "    }\n",
       "\n",
       "    .dataframe tbody tr th {\n",
       "        vertical-align: top;\n",
       "    }\n",
       "\n",
       "    .dataframe thead th {\n",
       "        text-align: right;\n",
       "    }\n",
       "</style>\n",
       "<table border=\"1\" class=\"dataframe\">\n",
       "  <thead>\n",
       "    <tr style=\"text-align: right;\">\n",
       "      <th></th>\n",
       "      <th>prime_genre</th>\n",
       "      <th>user_rating</th>\n",
       "      <th>rating_count_tot</th>\n",
       "      <th>price</th>\n",
       "    </tr>\n",
       "  </thead>\n",
       "  <tbody>\n",
       "    <tr>\n",
       "      <th>0</th>\n",
       "      <td>Games</td>\n",
       "      <td>4.0</td>\n",
       "      <td>21292</td>\n",
       "      <td>3.99</td>\n",
       "    </tr>\n",
       "    <tr>\n",
       "      <th>1</th>\n",
       "      <td>Productivity</td>\n",
       "      <td>4.0</td>\n",
       "      <td>161065</td>\n",
       "      <td>0.00</td>\n",
       "    </tr>\n",
       "    <tr>\n",
       "      <th>2</th>\n",
       "      <td>Weather</td>\n",
       "      <td>3.5</td>\n",
       "      <td>188583</td>\n",
       "      <td>0.00</td>\n",
       "    </tr>\n",
       "  </tbody>\n",
       "</table>\n",
       "</div>"
      ],
      "text/plain": [
       "    prime_genre  user_rating  rating_count_tot  price\n",
       "0         Games          4.0             21292   3.99\n",
       "1  Productivity          4.0            161065   0.00\n",
       "2       Weather          3.5            188583   0.00"
      ]
     },
     "execution_count": 173,
     "metadata": {},
     "output_type": "execute_result"
    }
   ],
   "source": [
    "# Do the same with our Apple object, selecting just the variables ['prime_genre', 'user_rating', 'rating_count_tot', 'price']\n",
    "apple = apple[['prime_genre','user_rating','rating_count_tot','price']]\n",
    "\n",
    "# Let's check the first three entries\n",
    "apple.iloc[0:3]"
   ]
  },
  {
   "cell_type": "markdown",
   "metadata": {
    "colab_type": "text",
    "id": "wwK2wH-rFcu2"
   },
   "source": [
    "## Stage 2 -  Cleaning, transforming and visualizing"
   ]
  },
  {
   "cell_type": "markdown",
   "metadata": {
    "colab_type": "text",
    "id": "NsoE5x0JFcu3"
   },
   "source": [
    "### 2a. Check the data types for both Apple and Google, and fix them\n",
    "\n",
    "Types are crucial for data science in Python. Let's determine whether the variables we selected in the previous section belong to the types they should do, or whether there are any errors here. "
   ]
  },
  {
   "cell_type": "code",
   "execution_count": 174,
   "metadata": {
    "colab": {},
    "colab_type": "code",
    "id": "ymw10SaWFcu4"
   },
   "outputs": [
    {
     "data": {
      "text/plain": [
       "prime_genre          object\n",
       "user_rating         float64\n",
       "rating_count_tot      int64\n",
       "price               float64\n",
       "dtype: object"
      ]
     },
     "execution_count": 174,
     "metadata": {},
     "output_type": "execute_result"
    }
   ],
   "source": [
    "# Using the dtypes feature of pandas DataFrame objects, check out the data types within our Apple dataframe.\n",
    "# Are they what you expect?\n",
    "apple.dtypes"
   ]
  },
  {
   "cell_type": "markdown",
   "metadata": {
    "colab_type": "text",
    "id": "VAiM6jIxFcu6"
   },
   "source": [
    "This is looking healthy. But what about our Google data frame?"
   ]
  },
  {
   "cell_type": "code",
   "execution_count": 175,
   "metadata": {},
   "outputs": [
    {
     "data": {
      "text/html": [
       "<div>\n",
       "<style scoped>\n",
       "    .dataframe tbody tr th:only-of-type {\n",
       "        vertical-align: middle;\n",
       "    }\n",
       "\n",
       "    .dataframe tbody tr th {\n",
       "        vertical-align: top;\n",
       "    }\n",
       "\n",
       "    .dataframe thead th {\n",
       "        text-align: right;\n",
       "    }\n",
       "</style>\n",
       "<table border=\"1\" class=\"dataframe\">\n",
       "  <thead>\n",
       "    <tr style=\"text-align: right;\">\n",
       "      <th></th>\n",
       "      <th>Category</th>\n",
       "      <th>Rating</th>\n",
       "      <th>Reviews</th>\n",
       "      <th>Price</th>\n",
       "    </tr>\n",
       "  </thead>\n",
       "  <tbody>\n",
       "    <tr>\n",
       "      <th>0</th>\n",
       "      <td>ART_AND_DESIGN</td>\n",
       "      <td>4.1</td>\n",
       "      <td>159</td>\n",
       "      <td>0</td>\n",
       "    </tr>\n",
       "    <tr>\n",
       "      <th>1</th>\n",
       "      <td>ART_AND_DESIGN</td>\n",
       "      <td>3.9</td>\n",
       "      <td>967</td>\n",
       "      <td>0</td>\n",
       "    </tr>\n",
       "    <tr>\n",
       "      <th>2</th>\n",
       "      <td>ART_AND_DESIGN</td>\n",
       "      <td>4.7</td>\n",
       "      <td>87510</td>\n",
       "      <td>0</td>\n",
       "    </tr>\n",
       "    <tr>\n",
       "      <th>3</th>\n",
       "      <td>ART_AND_DESIGN</td>\n",
       "      <td>4.5</td>\n",
       "      <td>215644</td>\n",
       "      <td>0</td>\n",
       "    </tr>\n",
       "    <tr>\n",
       "      <th>4</th>\n",
       "      <td>ART_AND_DESIGN</td>\n",
       "      <td>4.3</td>\n",
       "      <td>967</td>\n",
       "      <td>0</td>\n",
       "    </tr>\n",
       "  </tbody>\n",
       "</table>\n",
       "</div>"
      ],
      "text/plain": [
       "         Category  Rating Reviews Price\n",
       "0  ART_AND_DESIGN     4.1     159     0\n",
       "1  ART_AND_DESIGN     3.9     967     0\n",
       "2  ART_AND_DESIGN     4.7   87510     0\n",
       "3  ART_AND_DESIGN     4.5  215644     0\n",
       "4  ART_AND_DESIGN     4.3     967     0"
      ]
     },
     "execution_count": 175,
     "metadata": {},
     "output_type": "execute_result"
    }
   ],
   "source": [
    "google.head()"
   ]
  },
  {
   "cell_type": "code",
   "execution_count": 176,
   "metadata": {
    "colab": {},
    "colab_type": "code",
    "id": "kmP8MhqyFcu7"
   },
   "outputs": [
    {
     "data": {
      "text/plain": [
       "Category     object\n",
       "Rating      float64\n",
       "Reviews      object\n",
       "Price        object\n",
       "dtype: object"
      ]
     },
     "execution_count": 176,
     "metadata": {},
     "output_type": "execute_result"
    }
   ],
   "source": [
    "# Using the same dtypes feature, check out the data types of our Google dataframe. \n",
    "google.dtypes"
   ]
  },
  {
   "cell_type": "markdown",
   "metadata": {
    "colab_type": "text",
    "id": "O-dxAy0WFcu9"
   },
   "source": [
    "Weird. The data type for the column 'Price' is 'object', not a numeric data type like a float or an integer. Let's investigate the unique values of this column. "
   ]
  },
  {
   "cell_type": "code",
   "execution_count": 177,
   "metadata": {
    "colab": {},
    "colab_type": "code",
    "id": "Hu08K9y7Fcu9"
   },
   "outputs": [
    {
     "data": {
      "text/plain": [
       "array(['0', '$4.99', '$3.99', '$6.99', '$1.49', '$2.99', '$7.99', '$5.99',\n",
       "       '$3.49', '$1.99', '$9.99', '$7.49', '$0.99', '$9.00', '$5.49',\n",
       "       '$10.00', '$24.99', '$11.99', '$79.99', '$16.99', '$14.99',\n",
       "       '$1.00', '$29.99', '$12.99', '$2.49', '$10.99', '$1.50', '$19.99',\n",
       "       '$15.99', '$33.99', '$74.99', '$39.99', '$3.95', '$4.49', '$1.70',\n",
       "       '$8.99', '$2.00', '$3.88', '$25.99', '$399.99', '$17.99',\n",
       "       '$400.00', '$3.02', '$1.76', '$4.84', '$4.77', '$1.61', '$2.50',\n",
       "       '$1.59', '$6.49', '$1.29', '$5.00', '$13.99', '$299.99', '$379.99',\n",
       "       '$37.99', '$18.99', '$389.99', '$19.90', '$8.49', '$1.75',\n",
       "       '$14.00', '$4.85', '$46.99', '$109.99', '$154.99', '$3.08',\n",
       "       '$2.59', '$4.80', '$1.96', '$19.40', '$3.90', '$4.59', '$15.46',\n",
       "       '$3.04', '$4.29', '$2.60', '$3.28', '$4.60', '$28.99', '$2.95',\n",
       "       '$2.90', '$1.97', '$200.00', '$89.99', '$2.56', '$30.99', '$3.61',\n",
       "       '$394.99', '$1.26', 'Everyone', '$1.20', '$1.04'], dtype=object)"
      ]
     },
     "execution_count": 177,
     "metadata": {},
     "output_type": "execute_result"
    }
   ],
   "source": [
    "# Use the unique() pandas method on the Price column to check its unique values. \n",
    "google['Price'].unique()"
   ]
  },
  {
   "cell_type": "markdown",
   "metadata": {
    "colab_type": "text",
    "id": "w_7nkogFFcu_"
   },
   "source": [
    "Aha! Fascinating. There are actually two issues here. \n",
    "\n",
    "- Firstly, there's a price called `Everyone`. That is a massive mistake! \n",
    "- Secondly, there are dollar symbols everywhere! \n",
    "\n",
    "\n",
    "Let's address the first issue first. Let's check the datapoints that have the price value `Everyone`"
   ]
  },
  {
   "cell_type": "code",
   "execution_count": 178,
   "metadata": {
    "colab": {},
    "colab_type": "code",
    "id": "E75WWmhdFcvA"
   },
   "outputs": [
    {
     "data": {
      "text/html": [
       "<div>\n",
       "<style scoped>\n",
       "    .dataframe tbody tr th:only-of-type {\n",
       "        vertical-align: middle;\n",
       "    }\n",
       "\n",
       "    .dataframe tbody tr th {\n",
       "        vertical-align: top;\n",
       "    }\n",
       "\n",
       "    .dataframe thead th {\n",
       "        text-align: right;\n",
       "    }\n",
       "</style>\n",
       "<table border=\"1\" class=\"dataframe\">\n",
       "  <thead>\n",
       "    <tr style=\"text-align: right;\">\n",
       "      <th></th>\n",
       "      <th>Category</th>\n",
       "      <th>Rating</th>\n",
       "      <th>Reviews</th>\n",
       "      <th>Price</th>\n",
       "    </tr>\n",
       "  </thead>\n",
       "  <tbody>\n",
       "    <tr>\n",
       "      <th>10472</th>\n",
       "      <td>1.9</td>\n",
       "      <td>19.0</td>\n",
       "      <td>3.0M</td>\n",
       "      <td>Everyone</td>\n",
       "    </tr>\n",
       "  </tbody>\n",
       "</table>\n",
       "</div>"
      ],
      "text/plain": [
       "      Category  Rating Reviews     Price\n",
       "10472      1.9    19.0    3.0M  Everyone"
      ]
     },
     "execution_count": 178,
     "metadata": {},
     "output_type": "execute_result"
    }
   ],
   "source": [
    "# Let's check which data points have the value 'Everyone' for the 'Price' column by subsetting our Google dataframe.\n",
    "\n",
    "# Subset the Google dataframe on the price column. \n",
    "# To be sure: you want to pick out just those rows whose value for the 'Price' column is just 'Everyone'. \n",
    "google[google['Price']=='Everyone']"
   ]
  },
  {
   "cell_type": "markdown",
   "metadata": {
    "colab_type": "text",
    "id": "ezfLshdRFcvC"
   },
   "source": [
    "Thankfully, it's just one row. We've gotta get rid of it. "
   ]
  },
  {
   "cell_type": "code",
   "execution_count": 179,
   "metadata": {
    "colab": {},
    "colab_type": "code",
    "id": "DBmjUQUkFcvD"
   },
   "outputs": [
    {
     "data": {
      "text/plain": [
       "array(['0', '$4.99', '$3.99', '$6.99', '$1.49', '$2.99', '$7.99', '$5.99',\n",
       "       '$3.49', '$1.99', '$9.99', '$7.49', '$0.99', '$9.00', '$5.49',\n",
       "       '$10.00', '$24.99', '$11.99', '$79.99', '$16.99', '$14.99',\n",
       "       '$1.00', '$29.99', '$12.99', '$2.49', '$10.99', '$1.50', '$19.99',\n",
       "       '$15.99', '$33.99', '$74.99', '$39.99', '$3.95', '$4.49', '$1.70',\n",
       "       '$8.99', '$2.00', '$3.88', '$25.99', '$399.99', '$17.99',\n",
       "       '$400.00', '$3.02', '$1.76', '$4.84', '$4.77', '$1.61', '$2.50',\n",
       "       '$1.59', '$6.49', '$1.29', '$5.00', '$13.99', '$299.99', '$379.99',\n",
       "       '$37.99', '$18.99', '$389.99', '$19.90', '$8.49', '$1.75',\n",
       "       '$14.00', '$4.85', '$46.99', '$109.99', '$154.99', '$3.08',\n",
       "       '$2.59', '$4.80', '$1.96', '$19.40', '$3.90', '$4.59', '$15.46',\n",
       "       '$3.04', '$4.29', '$2.60', '$3.28', '$4.60', '$28.99', '$2.95',\n",
       "       '$2.90', '$1.97', '$200.00', '$89.99', '$2.56', '$30.99', '$3.61',\n",
       "       '$394.99', '$1.26', '$1.20', '$1.04'], dtype=object)"
      ]
     },
     "execution_count": 179,
     "metadata": {},
     "output_type": "execute_result"
    }
   ],
   "source": [
    "# Let's eliminate that row. \n",
    "\n",
    "# Subset our Google dataframe to pick out just those rows whose value for the 'Price' column is NOT 'Everyone'. \n",
    "# Reassign that subset to the Google variable. \n",
    "# You can do this in two lines or one. Your choice! \n",
    "google = google[~(google['Price']=='Everyone')]\n",
    "\n",
    "# Check again the unique values of Google\n",
    "google['Price'].unique() "
   ]
  },
  {
   "cell_type": "markdown",
   "metadata": {
    "colab_type": "text",
    "id": "T43TB4qFFcvF"
   },
   "source": [
    "Our second problem remains: I'm seeing dollar symbols when I close my eyes! (And not in a good way). \n",
    "\n",
    "This is a problem because Python actually considers these values strings. So we can't do mathematical and statistical operations on them until we've made them into numbers. "
   ]
  },
  {
   "cell_type": "code",
   "execution_count": 180,
   "metadata": {
    "colab": {},
    "colab_type": "code",
    "id": "W87gVS9BFcvG"
   },
   "outputs": [],
   "source": [
    "# Let's create a variable called nosymb.\n",
    "# This variable will take the Price column of Google and apply the str.replace() method. \n",
    "nosymb = google['Price'].str.replace('$',\"\")\n",
    "\n",
    "# Now we need to do two things:\n",
    "# i. Make the values in the nosymb variable numeric using the to_numeric() pandas method.\n",
    "# ii. Assign this new set of numeric, dollar-sign-less values to Google['Price']. \n",
    "# You can do this in one line if you wish.\n",
    "google['Price'] = pd.to_numeric(nosymb)\n"
   ]
  },
  {
   "cell_type": "code",
   "execution_count": 181,
   "metadata": {},
   "outputs": [
    {
     "data": {
      "text/plain": [
       "array([  0.  ,   4.99,   3.99,   6.99,   1.49,   2.99,   7.99,   5.99,\n",
       "         3.49,   1.99,   9.99,   7.49,   0.99,   9.  ,   5.49,  10.  ,\n",
       "        24.99,  11.99,  79.99,  16.99,  14.99,   1.  ,  29.99,  12.99,\n",
       "         2.49,  10.99,   1.5 ,  19.99,  15.99,  33.99,  74.99,  39.99,\n",
       "         3.95,   4.49,   1.7 ,   8.99,   2.  ,   3.88,  25.99, 399.99,\n",
       "        17.99, 400.  ,   3.02,   1.76,   4.84,   4.77,   1.61,   2.5 ,\n",
       "         1.59,   6.49,   1.29,   5.  ,  13.99, 299.99, 379.99,  37.99,\n",
       "        18.99, 389.99,  19.9 ,   8.49,   1.75,  14.  ,   4.85,  46.99,\n",
       "       109.99, 154.99,   3.08,   2.59,   4.8 ,   1.96,  19.4 ,   3.9 ,\n",
       "         4.59,  15.46,   3.04,   4.29,   2.6 ,   3.28,   4.6 ,  28.99,\n",
       "         2.95,   2.9 ,   1.97, 200.  ,  89.99,   2.56,  30.99,   3.61,\n",
       "       394.99,   1.26,   1.2 ,   1.04])"
      ]
     },
     "execution_count": 181,
     "metadata": {},
     "output_type": "execute_result"
    }
   ],
   "source": [
    "google['Price'].unique()"
   ]
  },
  {
   "cell_type": "markdown",
   "metadata": {
    "colab_type": "text",
    "id": "LxpJQ9yyFcvI"
   },
   "source": [
    "Now let's check the data types for our Google dataframe again, to verify that the 'Price' column really is numeric now."
   ]
  },
  {
   "cell_type": "code",
   "execution_count": 182,
   "metadata": {
    "colab": {},
    "colab_type": "code",
    "id": "Fn5Gt-QbFcvI"
   },
   "outputs": [
    {
     "data": {
      "text/plain": [
       "Category     object\n",
       "Rating      float64\n",
       "Reviews      object\n",
       "Price       float64\n",
       "dtype: object"
      ]
     },
     "execution_count": 182,
     "metadata": {},
     "output_type": "execute_result"
    }
   ],
   "source": [
    "# Use the function dtypes. \n",
    "google.dtypes"
   ]
  },
  {
   "cell_type": "markdown",
   "metadata": {
    "colab_type": "text",
    "id": "FgfuiVo0FcvK"
   },
   "source": [
    "Notice that the column `Reviews` is still an object column. We actually need this column to be a numeric column, too. "
   ]
  },
  {
   "cell_type": "code",
   "execution_count": 183,
   "metadata": {
    "colab": {},
    "colab_type": "code",
    "id": "MiVEWsWBFcvL"
   },
   "outputs": [],
   "source": [
    "# Convert the 'Reviews' column to a numeric data type. \n",
    "google.Reviews = pd.to_numeric(google['Reviews'])"
   ]
  },
  {
   "cell_type": "code",
   "execution_count": 184,
   "metadata": {
    "colab": {},
    "colab_type": "code",
    "id": "wWJdXXTTFcvN"
   },
   "outputs": [
    {
     "data": {
      "text/plain": [
       "Category     object\n",
       "Rating      float64\n",
       "Reviews       int64\n",
       "Price       float64\n",
       "dtype: object"
      ]
     },
     "execution_count": 184,
     "metadata": {},
     "output_type": "execute_result"
    }
   ],
   "source": [
    "# Let's check the data types of Google again\n",
    "google.dtypes"
   ]
  },
  {
   "cell_type": "markdown",
   "metadata": {
    "colab_type": "text",
    "id": "OiLm2GEKFcvP"
   },
   "source": [
    "### 2b. Add a `platform` column to both the `Apple` and the `Google` dataframes\n",
    "Let's add a new column to both dataframe objects called `platform`: all of its values in the Google dataframe will be just 'google', and all of its values for the Apple dataframe will be just 'apple'. \n",
    "\n",
    "The reason we're making this column is so that we can ultimately join our Apple and Google data together, and actually test out some hypotheses to solve the problem in our brief. "
   ]
  },
  {
   "cell_type": "code",
   "execution_count": 185,
   "metadata": {
    "colab": {},
    "colab_type": "code",
    "id": "mF-sOcx2FcvQ"
   },
   "outputs": [],
   "source": [
    "# Create a column called 'platform' in both the Apple and Google dataframes. \n",
    "# Add the value 'apple' and the value 'google' as appropriate. \n",
    "apple['platform'] = 'apple'\n",
    "google['platform'] = 'google'"
   ]
  },
  {
   "cell_type": "code",
   "execution_count": 186,
   "metadata": {},
   "outputs": [
    {
     "data": {
      "text/html": [
       "<div>\n",
       "<style scoped>\n",
       "    .dataframe tbody tr th:only-of-type {\n",
       "        vertical-align: middle;\n",
       "    }\n",
       "\n",
       "    .dataframe tbody tr th {\n",
       "        vertical-align: top;\n",
       "    }\n",
       "\n",
       "    .dataframe thead th {\n",
       "        text-align: right;\n",
       "    }\n",
       "</style>\n",
       "<table border=\"1\" class=\"dataframe\">\n",
       "  <thead>\n",
       "    <tr style=\"text-align: right;\">\n",
       "      <th></th>\n",
       "      <th>prime_genre</th>\n",
       "      <th>user_rating</th>\n",
       "      <th>rating_count_tot</th>\n",
       "      <th>price</th>\n",
       "      <th>platform</th>\n",
       "    </tr>\n",
       "  </thead>\n",
       "  <tbody>\n",
       "    <tr>\n",
       "      <th>0</th>\n",
       "      <td>Games</td>\n",
       "      <td>4.0</td>\n",
       "      <td>21292</td>\n",
       "      <td>3.99</td>\n",
       "      <td>apple</td>\n",
       "    </tr>\n",
       "    <tr>\n",
       "      <th>1</th>\n",
       "      <td>Productivity</td>\n",
       "      <td>4.0</td>\n",
       "      <td>161065</td>\n",
       "      <td>0.00</td>\n",
       "      <td>apple</td>\n",
       "    </tr>\n",
       "    <tr>\n",
       "      <th>2</th>\n",
       "      <td>Weather</td>\n",
       "      <td>3.5</td>\n",
       "      <td>188583</td>\n",
       "      <td>0.00</td>\n",
       "      <td>apple</td>\n",
       "    </tr>\n",
       "    <tr>\n",
       "      <th>3</th>\n",
       "      <td>Shopping</td>\n",
       "      <td>4.0</td>\n",
       "      <td>262241</td>\n",
       "      <td>0.00</td>\n",
       "      <td>apple</td>\n",
       "    </tr>\n",
       "    <tr>\n",
       "      <th>4</th>\n",
       "      <td>Reference</td>\n",
       "      <td>4.5</td>\n",
       "      <td>985920</td>\n",
       "      <td>0.00</td>\n",
       "      <td>apple</td>\n",
       "    </tr>\n",
       "  </tbody>\n",
       "</table>\n",
       "</div>"
      ],
      "text/plain": [
       "    prime_genre  user_rating  rating_count_tot  price platform\n",
       "0         Games          4.0             21292   3.99    apple\n",
       "1  Productivity          4.0            161065   0.00    apple\n",
       "2       Weather          3.5            188583   0.00    apple\n",
       "3      Shopping          4.0            262241   0.00    apple\n",
       "4     Reference          4.5            985920   0.00    apple"
      ]
     },
     "execution_count": 186,
     "metadata": {},
     "output_type": "execute_result"
    }
   ],
   "source": [
    "google.head()\n",
    "apple.head()"
   ]
  },
  {
   "cell_type": "markdown",
   "metadata": {
    "colab_type": "text",
    "id": "EJcry17IFcvS"
   },
   "source": [
    "### 2c. Changing the column names to prepare for our join of the two datasets \n",
    "Since the easiest way to join two datasets is if they have both:\n",
    "- the same number of columns\n",
    "- the same column names\n",
    "we need to rename the columns of `Apple` so that they're the same as the ones of `Google`, or vice versa.\n",
    "\n",
    "In this case, we're going to change the `Apple` columns names to the names of the `Google` columns. \n",
    "\n",
    "This is an important step to unify the two datasets!"
   ]
  },
  {
   "cell_type": "code",
   "execution_count": 187,
   "metadata": {},
   "outputs": [
    {
     "data": {
      "text/plain": [
       "(7197, 5)"
      ]
     },
     "execution_count": 187,
     "metadata": {},
     "output_type": "execute_result"
    }
   ],
   "source": [
    "apple.shape"
   ]
  },
  {
   "cell_type": "code",
   "execution_count": 188,
   "metadata": {},
   "outputs": [
    {
     "data": {
      "text/plain": [
       "(10840, 5)"
      ]
     },
     "execution_count": 188,
     "metadata": {},
     "output_type": "execute_result"
    }
   ],
   "source": [
    "google.shape"
   ]
  },
  {
   "cell_type": "code",
   "execution_count": 189,
   "metadata": {
    "colab": {},
    "colab_type": "code",
    "id": "bdt9XH2KFcvT"
   },
   "outputs": [],
   "source": [
    "# Create a variable called old_names where you'll store the column names of the Apple dataframe. \n",
    "# Use the feature .columns.\n",
    "old_names  = apple.columns.tolist()\n",
    "\n",
    "# Create a variable called new_names where you'll store the column names of the Google dataframe. \n",
    "new_names = google.columns.tolist()\n",
    "\n",
    "# Use the rename() DataFrame method to change the columns names. \n",
    "#apple.rename(columns={old_names : new_names},inplace=True)"
   ]
  },
  {
   "cell_type": "code",
   "execution_count": 190,
   "metadata": {},
   "outputs": [],
   "source": [
    "apple.columns = new_names"
   ]
  },
  {
   "cell_type": "code",
   "execution_count": 191,
   "metadata": {},
   "outputs": [
    {
     "data": {
      "text/html": [
       "<div>\n",
       "<style scoped>\n",
       "    .dataframe tbody tr th:only-of-type {\n",
       "        vertical-align: middle;\n",
       "    }\n",
       "\n",
       "    .dataframe tbody tr th {\n",
       "        vertical-align: top;\n",
       "    }\n",
       "\n",
       "    .dataframe thead th {\n",
       "        text-align: right;\n",
       "    }\n",
       "</style>\n",
       "<table border=\"1\" class=\"dataframe\">\n",
       "  <thead>\n",
       "    <tr style=\"text-align: right;\">\n",
       "      <th></th>\n",
       "      <th>Category</th>\n",
       "      <th>Rating</th>\n",
       "      <th>Reviews</th>\n",
       "      <th>Price</th>\n",
       "      <th>platform</th>\n",
       "    </tr>\n",
       "  </thead>\n",
       "  <tbody>\n",
       "    <tr>\n",
       "      <th>0</th>\n",
       "      <td>Games</td>\n",
       "      <td>4.0</td>\n",
       "      <td>21292</td>\n",
       "      <td>3.99</td>\n",
       "      <td>apple</td>\n",
       "    </tr>\n",
       "    <tr>\n",
       "      <th>1</th>\n",
       "      <td>Productivity</td>\n",
       "      <td>4.0</td>\n",
       "      <td>161065</td>\n",
       "      <td>0.00</td>\n",
       "      <td>apple</td>\n",
       "    </tr>\n",
       "    <tr>\n",
       "      <th>2</th>\n",
       "      <td>Weather</td>\n",
       "      <td>3.5</td>\n",
       "      <td>188583</td>\n",
       "      <td>0.00</td>\n",
       "      <td>apple</td>\n",
       "    </tr>\n",
       "    <tr>\n",
       "      <th>3</th>\n",
       "      <td>Shopping</td>\n",
       "      <td>4.0</td>\n",
       "      <td>262241</td>\n",
       "      <td>0.00</td>\n",
       "      <td>apple</td>\n",
       "    </tr>\n",
       "    <tr>\n",
       "      <th>4</th>\n",
       "      <td>Reference</td>\n",
       "      <td>4.5</td>\n",
       "      <td>985920</td>\n",
       "      <td>0.00</td>\n",
       "      <td>apple</td>\n",
       "    </tr>\n",
       "  </tbody>\n",
       "</table>\n",
       "</div>"
      ],
      "text/plain": [
       "       Category  Rating  Reviews  Price platform\n",
       "0         Games     4.0    21292   3.99    apple\n",
       "1  Productivity     4.0   161065   0.00    apple\n",
       "2       Weather     3.5   188583   0.00    apple\n",
       "3      Shopping     4.0   262241   0.00    apple\n",
       "4     Reference     4.5   985920   0.00    apple"
      ]
     },
     "execution_count": 191,
     "metadata": {},
     "output_type": "execute_result"
    }
   ],
   "source": [
    "apple.head()"
   ]
  },
  {
   "cell_type": "markdown",
   "metadata": {
    "colab_type": "text",
    "id": "qewPiLrRFcvX"
   },
   "source": [
    "### 2d. Join the two datasets \n",
    "Let's combine the two datasets into a single data frame called `df`."
   ]
  },
  {
   "cell_type": "code",
   "execution_count": 192,
   "metadata": {
    "colab": {},
    "colab_type": "code",
    "id": "jq6fGfvyFcvY"
   },
   "outputs": [
    {
     "data": {
      "text/html": [
       "<div>\n",
       "<style scoped>\n",
       "    .dataframe tbody tr th:only-of-type {\n",
       "        vertical-align: middle;\n",
       "    }\n",
       "\n",
       "    .dataframe tbody tr th {\n",
       "        vertical-align: top;\n",
       "    }\n",
       "\n",
       "    .dataframe thead th {\n",
       "        text-align: right;\n",
       "    }\n",
       "</style>\n",
       "<table border=\"1\" class=\"dataframe\">\n",
       "  <thead>\n",
       "    <tr style=\"text-align: right;\">\n",
       "      <th></th>\n",
       "      <th>Category</th>\n",
       "      <th>Rating</th>\n",
       "      <th>Reviews</th>\n",
       "      <th>Price</th>\n",
       "      <th>platform</th>\n",
       "    </tr>\n",
       "  </thead>\n",
       "  <tbody>\n",
       "    <tr>\n",
       "      <th>8239</th>\n",
       "      <td>GAME</td>\n",
       "      <td>4.5</td>\n",
       "      <td>33</td>\n",
       "      <td>0.00</td>\n",
       "      <td>google</td>\n",
       "    </tr>\n",
       "    <tr>\n",
       "      <th>3365</th>\n",
       "      <td>PERSONALIZATION</td>\n",
       "      <td>4.7</td>\n",
       "      <td>1141545</td>\n",
       "      <td>0.00</td>\n",
       "      <td>google</td>\n",
       "    </tr>\n",
       "    <tr>\n",
       "      <th>17979</th>\n",
       "      <td>Games</td>\n",
       "      <td>4.5</td>\n",
       "      <td>269</td>\n",
       "      <td>2.99</td>\n",
       "      <td>apple</td>\n",
       "    </tr>\n",
       "    <tr>\n",
       "      <th>7632</th>\n",
       "      <td>LIFESTYLE</td>\n",
       "      <td>3.6</td>\n",
       "      <td>581</td>\n",
       "      <td>0.00</td>\n",
       "      <td>google</td>\n",
       "    </tr>\n",
       "    <tr>\n",
       "      <th>3517</th>\n",
       "      <td>PRODUCTIVITY</td>\n",
       "      <td>4.1</td>\n",
       "      <td>979</td>\n",
       "      <td>0.00</td>\n",
       "      <td>google</td>\n",
       "    </tr>\n",
       "    <tr>\n",
       "      <th>10549</th>\n",
       "      <td>SPORTS</td>\n",
       "      <td>NaN</td>\n",
       "      <td>0</td>\n",
       "      <td>0.00</td>\n",
       "      <td>google</td>\n",
       "    </tr>\n",
       "    <tr>\n",
       "      <th>7375</th>\n",
       "      <td>MAPS_AND_NAVIGATION</td>\n",
       "      <td>4.2</td>\n",
       "      <td>453</td>\n",
       "      <td>2.99</td>\n",
       "      <td>google</td>\n",
       "    </tr>\n",
       "    <tr>\n",
       "      <th>4521</th>\n",
       "      <td>TOOLS</td>\n",
       "      <td>4.5</td>\n",
       "      <td>2</td>\n",
       "      <td>1.76</td>\n",
       "      <td>google</td>\n",
       "    </tr>\n",
       "    <tr>\n",
       "      <th>13174</th>\n",
       "      <td>Games</td>\n",
       "      <td>0.0</td>\n",
       "      <td>0</td>\n",
       "      <td>0.99</td>\n",
       "      <td>apple</td>\n",
       "    </tr>\n",
       "    <tr>\n",
       "      <th>6069</th>\n",
       "      <td>SPORTS</td>\n",
       "      <td>4.2</td>\n",
       "      <td>4330</td>\n",
       "      <td>0.00</td>\n",
       "      <td>google</td>\n",
       "    </tr>\n",
       "    <tr>\n",
       "      <th>9930</th>\n",
       "      <td>NEWS_AND_MAGAZINES</td>\n",
       "      <td>NaN</td>\n",
       "      <td>3</td>\n",
       "      <td>0.00</td>\n",
       "      <td>google</td>\n",
       "    </tr>\n",
       "    <tr>\n",
       "      <th>10888</th>\n",
       "      <td>Sports</td>\n",
       "      <td>3.0</td>\n",
       "      <td>57500</td>\n",
       "      <td>0.00</td>\n",
       "      <td>apple</td>\n",
       "    </tr>\n",
       "  </tbody>\n",
       "</table>\n",
       "</div>"
      ],
      "text/plain": [
       "                  Category  Rating  Reviews  Price platform\n",
       "8239                  GAME     4.5       33   0.00   google\n",
       "3365       PERSONALIZATION     4.7  1141545   0.00   google\n",
       "17979                Games     4.5      269   2.99    apple\n",
       "7632             LIFESTYLE     3.6      581   0.00   google\n",
       "3517          PRODUCTIVITY     4.1      979   0.00   google\n",
       "10549               SPORTS     NaN        0   0.00   google\n",
       "7375   MAPS_AND_NAVIGATION     4.2      453   2.99   google\n",
       "4521                 TOOLS     4.5        2   1.76   google\n",
       "13174                Games     0.0        0   0.99    apple\n",
       "6069                SPORTS     4.2     4330   0.00   google\n",
       "9930    NEWS_AND_MAGAZINES     NaN        3   0.00   google\n",
       "10888               Sports     3.0    57500   0.00    apple"
      ]
     },
     "execution_count": 192,
     "metadata": {},
     "output_type": "execute_result"
    }
   ],
   "source": [
    "# Let's use the append() method to append Apple to Google. \n",
    "df = google.append(apple,ignore_index=True)\n",
    "\n",
    "# Using the sample() method with the number 12 passed to it, check 12 random points of your dataset.\n",
    "df.sample(12)"
   ]
  },
  {
   "cell_type": "markdown",
   "metadata": {
    "colab_type": "text",
    "id": "FjqsHugWFcvb"
   },
   "source": [
    "### 2e. Eliminate the NaN values\n",
    "\n",
    "As you can see there are some `NaN` values. We want to eliminate all these `NaN` values from the table."
   ]
  },
  {
   "cell_type": "code",
   "execution_count": 193,
   "metadata": {
    "colab": {},
    "colab_type": "code",
    "id": "Gp2q6GLyFcvb"
   },
   "outputs": [
    {
     "data": {
      "text/plain": [
       "(16563, 5)"
      ]
     },
     "execution_count": 193,
     "metadata": {},
     "output_type": "execute_result"
    }
   ],
   "source": [
    "# Lets check first the dimesions of df before droping `NaN` values. Use the .shape feature. \n",
    "df.shape\n",
    "\n",
    "# Use the dropna() method to eliminate all the NaN values, and overwrite the same dataframe with the result. \n",
    "df = df.dropna()\n",
    "# Check the new dimesions of our dataframe. \n",
    "df.shape"
   ]
  },
  {
   "cell_type": "markdown",
   "metadata": {
    "colab_type": "text",
    "id": "qtfeQKtAFcvd"
   },
   "source": [
    "### 2f. Filter the data so that we only see whose apps that have been reviewed at least once\n",
    "\n",
    "Apps that haven't been reviewed yet can't help us solve our brief. \n",
    "\n",
    "So let's check to see if any apps have no reviews at all. "
   ]
  },
  {
   "cell_type": "code",
   "execution_count": 194,
   "metadata": {
    "colab": {},
    "colab_type": "code",
    "id": "Ge9OKXLNFcvd"
   },
   "outputs": [
    {
     "data": {
      "text/plain": [
       "Category    929\n",
       "Rating      929\n",
       "Reviews     929\n",
       "Price       929\n",
       "platform    929\n",
       "dtype: int64"
      ]
     },
     "execution_count": 194,
     "metadata": {},
     "output_type": "execute_result"
    }
   ],
   "source": [
    "# Subset your df to pick out just those rows whose value for 'Reviews' is equal to 0. \n",
    "# Do a count() on the result. \n",
    "df[df['Reviews']==0].count()"
   ]
  },
  {
   "cell_type": "markdown",
   "metadata": {
    "colab_type": "text",
    "id": "05f7H0kAFcvg"
   },
   "source": [
    "929 apps do not have reviews, we need to eliminate these points!"
   ]
  },
  {
   "cell_type": "code",
   "execution_count": 195,
   "metadata": {
    "colab": {},
    "colab_type": "code",
    "id": "pD8vmPjkFcvg"
   },
   "outputs": [
    {
     "data": {
      "text/plain": [
       "(15634, 5)"
      ]
     },
     "execution_count": 195,
     "metadata": {},
     "output_type": "execute_result"
    }
   ],
   "source": [
    "# Eliminate the points that have 0 reviews.\n",
    "df = df[~(df['Reviews']==0)]\n",
    "df.shape"
   ]
  },
  {
   "cell_type": "code",
   "execution_count": 196,
   "metadata": {},
   "outputs": [
    {
     "data": {
      "text/plain": [
       "15634"
      ]
     },
     "execution_count": 196,
     "metadata": {},
     "output_type": "execute_result"
    }
   ],
   "source": [
    "16563-929"
   ]
  },
  {
   "cell_type": "markdown",
   "metadata": {
    "colab_type": "text",
    "id": "ApnKES_bFcvi"
   },
   "source": [
    "### 2g. Summarize the data visually and analytically (by the column `platform`)"
   ]
  },
  {
   "cell_type": "markdown",
   "metadata": {
    "colab_type": "text",
    "id": "2smt9UocFcvj"
   },
   "source": [
    "What we need to solve our brief is a summary of the `Rating` column, but separated by the different platforms."
   ]
  },
  {
   "cell_type": "code",
   "execution_count": 198,
   "metadata": {
    "colab": {},
    "colab_type": "code",
    "id": "Vqckt347Fcvj"
   },
   "outputs": [
    {
     "name": "stdout",
     "output_type": "stream",
     "text": [
      "platform\n",
      "apple     4.049697\n",
      "google    4.191757\n",
      "Name: Rating, dtype: float64\n"
     ]
    }
   ],
   "source": [
    "# To summarize analytically, let's use the groupby() method on our df.\n",
    "summary_mean = df.groupby('platform')['Rating'].mean()\n",
    "print(summary_mean)"
   ]
  },
  {
   "cell_type": "markdown",
   "metadata": {
    "colab_type": "text",
    "id": "8f9TqMtKFcvl"
   },
   "source": [
    "Interesting! Our means of 4.049697 and 4.191757 don't **seem** all that different! Perhaps we've solved our brief already: there's no significant difference between Google Play app reviews and Apple Store app reviews. We have an ***observed difference*** here: which is simply (4.191757 - 4.049697) = 0.14206. This is just the actual difference that we observed between the mean rating for apps from Google Play, and the mean rating for apps from the Apple Store. Let's look at how we're going to use this observed difference to solve our problem using a statistical test. \n",
    "\n",
    "**Outline of our method:**\n",
    "1. We'll assume that platform (i.e, whether the app was Google or Apple) really doesn’t impact on ratings. \n",
    "\n",
    "\n",
    "2. Given this assumption, we should actually be able to get a difference in mean rating for Apple apps and mean rating for Google apps that's pretty similar to the one we actually got (0.14206) just by: \n",
    "a. shuffling the ratings column, \n",
    "b. keeping the platform column the same,\n",
    "c. calculating the difference between the mean rating for Apple and the mean rating for Google. \n",
    "\n",
    "\n",
    "3. We can make the shuffle more useful by doing it many times, each time calculating the mean rating for Apple apps and the mean rating for Google apps, and the difference between these means. \n",
    "\n",
    "\n",
    "4. We can then take the mean of all these differences, and this will be called our permutation difference. This permutation difference will be great indicator of what the difference would be if our initial assumption were true and platform really doesn’t impact on ratings. \n",
    "\n",
    "\n",
    "5. Now we do a comparison. If the observed difference looks just like the permutation difference, then we stick with the claim that actually, platform doesn’t impact on ratings. If instead, however, the permutation difference differs significantly from the observed difference, we'll conclude: something's going on; the platform does in fact impact on ratings. \n",
    "\n",
    "\n",
    "6. As for what the definition of *significantly* is, we'll get to that. But there’s a brief summary of what we're going to do. Exciting!\n",
    "\n",
    "If you want to look more deeply at the statistics behind this project, check out [this resource](https://www.springboard.com/archeio/download/4ea4d453b0b84014bcef287c50f47f00/)."
   ]
  },
  {
   "cell_type": "markdown",
   "metadata": {
    "colab_type": "text",
    "id": "d6EhTxArFcvm"
   },
   "source": [
    "Let's also get a **visual summary** of the `Rating` column, separated by the different platforms. \n",
    "\n",
    "A good tool to use here is the boxplot!"
   ]
  },
  {
   "cell_type": "code",
   "execution_count": 199,
   "metadata": {
    "colab": {},
    "colab_type": "code",
    "id": "hFKjrlWgFcvm"
   },
   "outputs": [
    {
     "data": {
      "image/png": "[encoded data removed]",
      "text/plain": [
       "<Figure size 1080x1440 with 1 Axes>"
      ]
     },
     "metadata": {
      "needs_background": "light"
     },
     "output_type": "display_data"
    }
   ],
   "source": [
    "# Call the boxplot() method on our df.\n",
    "_= df.boxplot(grid=False,vert=False,fontsize=12,figsize=(15,20))"
   ]
  },
  {
   "cell_type": "markdown",
   "metadata": {
    "colab_type": "text",
    "id": "FqTlAjnmFcvo"
   },
   "source": [
    "Here we see the same information as in the analytical summary, but with a boxplot. Can you see how the boxplot is working here? If you need to revise your boxplots, check out this this [link](https://www.kaggle.com/ramamet4/app-store-apple-data-set-10k-apps). "
   ]
  },
  {
   "cell_type": "markdown",
   "metadata": {
    "colab_type": "text",
    "id": "O8L-s1fgFcvp"
   },
   "source": [
    "## Stage 3 - Modelling"
   ]
  },
  {
   "cell_type": "markdown",
   "metadata": {
    "colab_type": "text",
    "id": "5fbRq2MZFcvq"
   },
   "source": [
    "### 3a. Hypothesis formulation\n",
    "\n",
    "Our **Null hypothesis** is just:\n",
    "\n",
    "**H<sub>null</sub>**: the observed difference in the mean rating of Apple Store and Google Play apps is due to chance (and thus not due to the platform).\n",
    "\n",
    "The more interesting hypothesis is called the **Alternate hypothesis**:\n",
    "\n",
    "**H<sub>alternative</sub>**: the observed difference in the average ratings of apple and google users is not due to chance (and is actually due to platform)\n",
    "\n",
    "We're also going to pick a **significance level** of 0.05. "
   ]
  },
  {
   "cell_type": "markdown",
   "metadata": {
    "colab_type": "text",
    "id": "TjBqkabaFcvq"
   },
   "source": [
    "### 3b. Getting the distribution of the data\n",
    "Now that the hypotheses and significance level are defined, we can select a statistical test to determine which hypothesis to accept. \n",
    "\n",
    "There are many different statistical tests, all with different assumptions. You'll generate an excellent judgement about when to use which statistical tests over the Data Science Career Track course. But in general, one of the most important things to determine is the **distribution of the data**.   "
   ]
  },
  {
   "cell_type": "code",
   "execution_count": 200,
   "metadata": {
    "colab": {},
    "colab_type": "code",
    "id": "bFwVhkeWFcvr"
   },
   "outputs": [
    {
     "data": {
      "text/plain": [
       "(6268,)"
      ]
     },
     "execution_count": 200,
     "metadata": {},
     "output_type": "execute_result"
    }
   ],
   "source": [
    "# Create a subset of the column 'Rating' by the different platforms.\n",
    "# Call the subsets 'apple' and 'google' \n",
    "apple = df.loc[df['platform']=='apple','Rating']\n",
    "apple.shape"
   ]
  },
  {
   "cell_type": "code",
   "execution_count": 201,
   "metadata": {},
   "outputs": [
    {
     "data": {
      "text/plain": [
       "79.17070165155795"
      ]
     },
     "execution_count": 201,
     "metadata": {},
     "output_type": "execute_result"
    }
   ],
   "source": [
    "np.sqrt(6268)"
   ]
  },
  {
   "cell_type": "code",
   "execution_count": 202,
   "metadata": {
    "colab": {},
    "colab_type": "code",
    "id": "oPPFpwPvFcvu"
   },
   "outputs": [
    {
     "name": "stdout",
     "output_type": "stream",
     "text": [
      "NormaltestResult(statistic=1778.9974234584017, pvalue=0.0)\n"
     ]
    }
   ],
   "source": [
    "# Using the stats.normaltest() method, get an indication of whether the apple data are normally distributed\n",
    "# Save the result in a variable called apple_normal, and print it out\n",
    "\n",
    "apple_normal = stats.normaltest(apple)\n",
    "print(apple_normal)"
   ]
  },
  {
   "cell_type": "code",
   "execution_count": 203,
   "metadata": {
    "colab": {},
    "colab_type": "code",
    "id": "rCdh8a8KFcvw"
   },
   "outputs": [
    {
     "data": {
      "text/plain": [
       "0        4.1\n",
       "1        3.9\n",
       "2        4.7\n",
       "3        4.5\n",
       "4        4.3\n",
       "        ... \n",
       "10833    4.0\n",
       "10835    4.5\n",
       "10836    5.0\n",
       "10838    4.5\n",
       "10839    4.5\n",
       "Name: Rating, Length: 9366, dtype: float64"
      ]
     },
     "execution_count": 203,
     "metadata": {},
     "output_type": "execute_result"
    }
   ],
   "source": [
    "# Do the same with the google data. \n",
    "google = df.loc[df['platform']=='google','Rating']\n",
    "google"
   ]
  },
  {
   "cell_type": "code",
   "execution_count": 204,
   "metadata": {},
   "outputs": [
    {
     "name": "stdout",
     "output_type": "stream",
     "text": [
      "NormaltestResult(statistic=3678.6157187516856, pvalue=0.0)\n"
     ]
    }
   ],
   "source": [
    "google_normal = stats.normaltest(google)\n",
    "print(google_normal)"
   ]
  },
  {
   "cell_type": "markdown",
   "metadata": {
    "colab_type": "text",
    "id": "9gDqu21yFcv0"
   },
   "source": [
    "Since the null hypothesis of the normaltest() is that the data are normally distributed, the lower the p-value in the result of this test, the more likely the data are to be non-normal. \n",
    "\n",
    "Since the p-values is 0 for both tests, regardless of what we pick for the significance level, our conclusion is that the data are not normally distributed. \n",
    "\n",
    "We can actually also check out the distribution of the data visually with a histogram. A normal distribution has the following visual characteristics:\n",
    "    - symmetric\n",
    "    - unimodal (one hump)\n",
    "As well as a roughly identical mean, median and mode. "
   ]
  },
  {
   "cell_type": "code",
   "execution_count": 205,
   "metadata": {
    "colab": {},
    "colab_type": "code",
    "id": "P9tT9RjNFcv1"
   },
   "outputs": [
    {
     "data": {
      "image/png": "[encoded data removed]",
      "text/plain": [
       "<Figure size 432x288 with 1 Axes>"
      ]
     },
     "metadata": {
      "needs_background": "light"
     },
     "output_type": "display_data"
    }
   ],
   "source": [
    "# Create a histogram of the apple reviews distribution\n",
    "_= plt.hist(apple,bins=10,histtype='step')"
   ]
  },
  {
   "cell_type": "code",
   "execution_count": 206,
   "metadata": {
    "colab": {},
    "colab_type": "code",
    "id": "8dE1uC5iFcv2"
   },
   "outputs": [
    {
     "data": {
      "image/png": "[encoded data removed]",
      "text/plain": [
       "<Figure size 432x288 with 1 Axes>"
      ]
     },
     "metadata": {
      "needs_background": "light"
     },
     "output_type": "display_data"
    }
   ],
   "source": [
    "# Create a histogram of the google data\n",
    "_= plt.hist(google,bins=10,histtype='step')"
   ]
  },
  {
   "cell_type": "markdown",
   "metadata": {
    "colab_type": "text",
    "id": "QhZV89FzFcv5"
   },
   "source": [
    "### 3c. Permutation test\n",
    "Since the data aren't normally distributed, we're using a *non-parametric* test here. This is simply a label for statistical tests used when the data aren't normally distributed. These tests are extraordinarily powerful due to how few assumptions we need to make.  \n",
    "\n",
    "Check out more about permutations [here.](http://rasbt.github.io/mlxtend/user_guide/evaluate/permutation_test/)"
   ]
  },
  {
   "cell_type": "code",
   "execution_count": 207,
   "metadata": {
    "colab": {},
    "colab_type": "code",
    "id": "bxNhQgpqFcv6"
   },
   "outputs": [
    {
     "data": {
      "text/html": [
       "<div>\n",
       "<style scoped>\n",
       "    .dataframe tbody tr th:only-of-type {\n",
       "        vertical-align: middle;\n",
       "    }\n",
       "\n",
       "    .dataframe tbody tr th {\n",
       "        vertical-align: top;\n",
       "    }\n",
       "\n",
       "    .dataframe thead th {\n",
       "        text-align: right;\n",
       "    }\n",
       "</style>\n",
       "<table border=\"1\" class=\"dataframe\">\n",
       "  <thead>\n",
       "    <tr style=\"text-align: right;\">\n",
       "      <th></th>\n",
       "      <th>count</th>\n",
       "      <th>mean</th>\n",
       "      <th>std</th>\n",
       "      <th>min</th>\n",
       "      <th>25%</th>\n",
       "      <th>50%</th>\n",
       "      <th>75%</th>\n",
       "      <th>max</th>\n",
       "    </tr>\n",
       "    <tr>\n",
       "      <th>platform</th>\n",
       "      <th></th>\n",
       "      <th></th>\n",
       "      <th></th>\n",
       "      <th></th>\n",
       "      <th></th>\n",
       "      <th></th>\n",
       "      <th></th>\n",
       "      <th></th>\n",
       "    </tr>\n",
       "  </thead>\n",
       "  <tbody>\n",
       "    <tr>\n",
       "      <th>apple</th>\n",
       "      <td>6268.0</td>\n",
       "      <td>4.138848</td>\n",
       "      <td>0.612962</td>\n",
       "      <td>1.0</td>\n",
       "      <td>4.0</td>\n",
       "      <td>4.3</td>\n",
       "      <td>4.5</td>\n",
       "      <td>5.0</td>\n",
       "    </tr>\n",
       "    <tr>\n",
       "      <th>google</th>\n",
       "      <td>9366.0</td>\n",
       "      <td>4.132095</td>\n",
       "      <td>0.612965</td>\n",
       "      <td>1.0</td>\n",
       "      <td>4.0</td>\n",
       "      <td>4.3</td>\n",
       "      <td>4.5</td>\n",
       "      <td>5.0</td>\n",
       "    </tr>\n",
       "  </tbody>\n",
       "</table>\n",
       "</div>"
      ],
      "text/plain": [
       "           count      mean       std  min  25%  50%  75%  max\n",
       "platform                                                     \n",
       "apple     6268.0  4.138848  0.612962  1.0  4.0  4.3  4.5  5.0\n",
       "google    9366.0  4.132095  0.612965  1.0  4.0  4.3  4.5  5.0"
      ]
     },
     "execution_count": 207,
     "metadata": {},
     "output_type": "execute_result"
    }
   ],
   "source": [
    "# Create a column called `Permutation1`, and assign to it the result of permuting (shuffling) the Rating column\n",
    "# This assignment will use our numpy object's random.permutation() method\n",
    "df['Permutation1'] = np.random.permutation(df['Rating'])\n",
    "\n",
    "# Call the describe() method on our permutation grouped by 'platform'. \n",
    "df.groupby('platform')['Permutation1'].describe()"
   ]
  },
  {
   "cell_type": "code",
   "execution_count": 209,
   "metadata": {
    "colab": {},
    "colab_type": "code",
    "id": "AaGNfPGTFcv7"
   },
   "outputs": [
    {
     "data": {
      "text/plain": [
       "platform\n",
       "apple     4.049697\n",
       "google    4.191757\n",
       "Name: Rating, dtype: float64"
      ]
     },
     "execution_count": 209,
     "metadata": {},
     "output_type": "execute_result"
    }
   ],
   "source": [
    "# Lets compare with the previous analytical summary:\n",
    "summary_mean"
   ]
  },
  {
   "cell_type": "code",
   "execution_count": 216,
   "metadata": {},
   "outputs": [
    {
     "data": {
      "text/plain": [
       "4.1388481174218255"
      ]
     },
     "execution_count": 216,
     "metadata": {},
     "output_type": "execute_result"
    }
   ],
   "source": [
    "np.mean(df.loc[df['platform']=='apple','Permutation1'])"
   ]
  },
  {
   "cell_type": "code",
   "execution_count": 217,
   "metadata": {
    "colab": {},
    "colab_type": "code",
    "id": "aJPNpX0JFcv-"
   },
   "outputs": [],
   "source": [
    "# The difference in the means for Permutation1 (0.001103) now looks hugely different to our observed difference of 0.14206. \n",
    "# It's sure starting to look like our observed difference is significant, and that the Null is false; platform does impact on ratings\n",
    "# But to be sure, let's create 10,000 permutations, calculate the mean ratings for Google and Apple apps and the difference between these for each one, and then take the average of all of these differences.\n",
    "# Let's create a vector with the differences - that will be the distibution of the Null.\n",
    "\n",
    "# First, make a list called difference.\n",
    "differences = []\n",
    "\n",
    "# Now make a for loop that does the following 10,000 times:\n",
    "# 1. makes a permutation of the 'Rating' as you did above\n",
    "# 2. calculates the difference in the mean rating for apple and the mean rating for google. \n",
    "for i in range(10000):\n",
    "    df['Permutation'] = np.random.permutation(df['Rating'])\n",
    "    diff  = abs(np.mean(df.loc[df['platform']=='apple','Permutation']) - np.mean(df.loc[df['platform']=='google','Permutation']))\n",
    "    differences.append(diff)"
   ]
  },
  {
   "cell_type": "code",
   "execution_count": 219,
   "metadata": {},
   "outputs": [
    {
     "data": {
      "text/plain": [
       "[0.006908380609520037,\n",
       " 0.003477697236442978,\n",
       " 0.005683356043072685,\n",
       " 0.013810513144736802,\n",
       " 0.004596197927547507,\n",
       " 0.014849120929333104,\n",
       " 0.0011294603721516694,\n",
       " 0.009656082006348932,\n",
       " 0.004751272133820095,\n",
       " 0.013406337005458013,\n",
       " 0.01122259756092081,\n",
       " 0.0014004816672512632,\n",
       " 0.010237251713995477,\n",
       " 0.01514206158652609,\n",
       " 0.004085497912925007,\n",
       " 0.013597465394048491,\n",
       " 0.02145360120061124,\n",
       " 0.001959732012803528,\n",
       " 0.0024876397827764407,\n",
       " 0.01737435136199217,\n",
       " 0.0012359842474927163,\n",
       " 0.009837787181459667,\n",
       " 0.004622828896383879,\n",
       " 0.012292547921094688,\n",
       " 0.00797361936295271,\n",
       " 0.0032066759413433843,\n",
       " 0.008852441334534333,\n",
       " 0.01172858596880122,\n",
       " 0.020414993416014937,\n",
       " 0.003211387548085476,\n",
       " 0.009331798773577482,\n",
       " 0.004782614709398558,\n",
       " 0.0009963055279724742,\n",
       " 0.006433734777217204,\n",
       " 6.422161871810772e-05,\n",
       " 0.0004950287268323805,\n",
       " 0.003983685644323387,\n",
       " 0.006615439952326163,\n",
       " 0.004542935989875652,\n",
       " 0.002594163658120152,\n",
       " 0.011355752405100006,\n",
       " 0.003344542392264671,\n",
       " 0.009651370399607728,\n",
       " 0.01298495311082526,\n",
       " 0.007414369017400446,\n",
       " 0.008399714864326668,\n",
       " 0.014849120929332216,\n",
       " 0.005337153448206955,\n",
       " 0.01522195449303343,\n",
       " 0.02933636797600947,\n",
       " 0.008612762615012315,\n",
       " 0.0005482906645051244,\n",
       " 0.0017999461997879607,\n",
       " 0.015328478368376253,\n",
       " 0.023845676789091996,\n",
       " 0.012740562784562037,\n",
       " 0.0036594024115528256,\n",
       " 0.0019017584683895805,\n",
       " 0.00973126330611418,\n",
       " 0.003664114018293141,\n",
       " 0.0008146003528626267,\n",
       " 0.016708577141096193,\n",
       " 0.008883783910111909,\n",
       " 0.015781204838584806,\n",
       " 0.015115430617689718,\n",
       " 0.010721320759781605,\n",
       " 0.003024970766235313,\n",
       " 0.014076822833093416,\n",
       " 0.006721963827668986,\n",
       " 0.01522195449303343,\n",
       " 0.003419723692029919,\n",
       " 0.011360464011840321,\n",
       " 0.0036860333803874212,\n",
       " 0.0011075410100565009,\n",
       " 0.011941633719488642,\n",
       " 0.009283248442647718,\n",
       " 0.017166015218046837,\n",
       " 0.0025675326892855566,\n",
       " 0.011249228529757183,\n",
       " 0.0034463546608654028,\n",
       " 0.007068166422533828,\n",
       " 0.010641427853274266,\n",
       " 0.0008412313216989986,\n",
       " 0.0010276481035491614,\n",
       " 0.004915769553575977,\n",
       " 0.012585488578287674,\n",
       " 0.008719286490355138,\n",
       " 0.007254583204383991,\n",
       " 0.010530192371190239,\n",
       " 0.004990950853343001,\n",
       " 0.01223457437668074,\n",
       " 0.007520892892744158,\n",
       " 0.01497756416676932,\n",
       " 0.015461633212555448,\n",
       " 0.0026521372025340995,\n",
       " 0.019371674024676544,\n",
       " 0.0045429359898747634,\n",
       " 0.009305167804742887,\n",
       " 0.0019863629816390116,\n",
       " 0.008452976801996748,\n",
       " 0.01583446677625666,\n",
       " 0.014551468665395362,\n",
       " 0.005767960556322116,\n",
       " 0.0049376889156702575,\n",
       " 0.019909005008135416,\n",
       " 0.005203998604028648,\n",
       " 0.008910414878947392,\n",
       " 0.009123462629633039,\n",
       " 0.010028915570051034,\n",
       " 0.007307845142057623,\n",
       " 0.0048891385847413815,\n",
       " 0.009464953617757565,\n",
       " 0.0037440069248013685,\n",
       " 0.019957555339064292,\n",
       " 0.009864418150295151,\n",
       " 0.005155448273098884,\n",
       " 0.0011608029477283566,\n",
       " 0.008985596178711752,\n",
       " 0.01050827300909507,\n",
       " 0.005496939261222522,\n",
       " 0.011227309167662014,\n",
       " 0.0004903171200911771,\n",
       " 0.004622828896383879,\n",
       " 0.00453822438313356,\n",
       " 0.005896403793760108,\n",
       " 0.0003571622759128701,\n",
       " 0.003952343068745812,\n",
       " 0.00744571159297891,\n",
       " 0.015270504823964082,\n",
       " 0.007978330969694802,\n",
       " 0.000894493259369078,\n",
       " 0.0015555558735229624,\n",
       " 0.00536849602378453,\n",
       " 0.016468898421574174,\n",
       " 0.0076321283748290725,\n",
       " 0.016473610028316266,\n",
       " 0.008803891003605457,\n",
       " 0.007227952235549395,\n",
       " 0.002940366252985882,\n",
       " 0.005896403793760108,\n",
       " 0.011355752405099118,\n",
       " 0.004969031491246945,\n",
       " 0.0012140648853993241,\n",
       " 0.005283891510535987,\n",
       " 0.007339187717635198,\n",
       " 0.00992239169470821,\n",
       " 0.009602820068677964,\n",
       " 0.012425702765273883,\n",
       " 0.007733940643430692,\n",
       " 0.0025189823583549042,\n",
       " 0.01095628787256242,\n",
       " 0.0030735210971650773,\n",
       " 0.013140027317099623,\n",
       " 0.004964319884506629,\n",
       " 0.011946345326229846,\n",
       " 0.0021946991255825665,\n",
       " 0.005448388930293646,\n",
       " 0.0011560913409871532,\n",
       " 0.004889138584740493,\n",
       " 0.009145381991728208,\n",
       " 0.004196733395009922,\n",
       " 0.012106131139244525,\n",
       " 0.0023544849385972455,\n",
       " 0.0038724501622393603,\n",
       " 0.0031800449725079005,\n",
       " 0.00417010242617355,\n",
       " 0.015221954493034318,\n",
       " 0.013144738923839938,\n",
       " 0.0052087102107707395,\n",
       " 0.008164747751546741,\n",
       " 0.0023059346076674814,\n",
       " 0.00011748355639085162,\n",
       " 0.010024203963308942,\n",
       " 0.016655315203425225,\n",
       " 0.00922998650497675,\n",
       " 0.006349130263967773,\n",
       " 0.0008944932593726307,\n",
       " 0.0024610088139400688,\n",
       " 0.005554912805635581,\n",
       " 0.01650024099715175,\n",
       " 0.0017419726553740134,\n",
       " 0.0005169480889257727,\n",
       " 0.0013957700605091716,\n",
       " 0.008532869708504087,\n",
       " 0.010534903977931442,\n",
       " 0.0016934223244442492,\n",
       " 0.003051601735071685,\n",
       " 0.01101426141697548,\n",
       " 0.004036947581996131,\n",
       " 0.003739295318060165,\n",
       " 0.0028119230155478903,\n",
       " 0.018151361064971283,\n",
       " 0.012798536328974208,\n",
       " 0.0045695669587120236,\n",
       " 0.008617474221753518,\n",
       " 0.004143471457338066,\n",
       " 0.005981008307008651,\n",
       " 0.006913092216262129,\n",
       " 0.006775225765340842,\n",
       " 0.004591486320805416,\n",
       " 0.004032235975253151,\n",
       " 0.0008098887461205351,\n",
       " 0.011062811747906132,\n",
       " 0.007179401904620519,\n",
       " 0.002753949471134831,\n",
       " 0.016069433889037477,\n",
       " 0.019509540475596943,\n",
       " 0.003317911423428299,\n",
       " 0.002252672669996514,\n",
       " 0.008080143238295534,\n",
       " 0.006961642547191893,\n",
       " 0.0024390894518466766,\n",
       " 0.0007347074463561754,\n",
       " 0.004303257270352745,\n",
       " 0.004702721802890331,\n",
       " 0.000281980976146734,\n",
       " 0.00325993787901524,\n",
       " 0.002780580439970315,\n",
       " 0.010397037527011044,\n",
       " 0.02145360120061124,\n",
       " 3.759064988173577e-05,\n",
       " 0.003100152065999673,\n",
       " 0.00685511867184907,\n",
       " 0.018923659161210082,\n",
       " 0.013837144113571398,\n",
       " 0.00922998650497675,\n",
       " 0.0032380185169209597,\n",
       " 0.00616271348211761,\n",
       " 0.010987630448139996,\n",
       " 0.0010761984344798137,\n",
       " 0.019478197900019367,\n",
       " 0.0042233643638454055,\n",
       " 0.0031800449725079005,\n",
       " 0.003446354660867179,\n",
       " 0.0049157695535777535,\n",
       " 0.005763248949580024,\n",
       " 0.0017419726553740134,\n",
       " 0.011275859498592666,\n",
       " 0.007552235468322621,\n",
       " 0.0011075410100565009,\n",
       " 0.018257884940314106,\n",
       " 0.0033978043299356386,\n",
       " 0.001959732012803528,\n",
       " 0.00581651088725188,\n",
       " 0.0018798391062953002,\n",
       " 0.0013158771540018321,\n",
       " 0.004431700507789849,\n",
       " 0.004431700507789849,\n",
       " 0.0033398307855216913,\n",
       " 0.0039037927378160475,\n",
       " 0.0025189823583549042,\n",
       " 0.007094797391371088,\n",
       " 0.012372440827602915,\n",
       " 0.0024657204206821604,\n",
       " 0.006295868326296805,\n",
       " 0.0019550204060614362,\n",
       " 0.001795234593044981,\n",
       " 0.0009963055279724742,\n",
       " 0.0002772693694046424,\n",
       " 0.006140794120022441,\n",
       " 0.024596055523236515,\n",
       " 0.0011294603721516694,\n",
       " 0.0071746902978775395,\n",
       " 0.012207943407845256,\n",
       " 0.00770730967459432,\n",
       " 0.003925712099910328,\n",
       " 0.0033664617543580633,\n",
       " 0.006801856734178102,\n",
       " 0.0027006875334629754,\n",
       " 0.0011827223098217488,\n",
       " 0.0004370551824202096,\n",
       " 0.007440999986237706,\n",
       " 0.007014904484864637,\n",
       " 0.0032066759413433843,\n",
       " 0.020548148260194132,\n",
       " 0.001586898449101426,\n",
       " 0.005288603117278079,\n",
       " 0.009815867819364499,\n",
       " 0.0043251766324479135,\n",
       " 0.019824400494885985,\n",
       " 0.01495564480467415,\n",
       " 0.0077073096745952085,\n",
       " 0.0028119230155487784,\n",
       " 0.002434377845103697,\n",
       " 0.0036374830494585453,\n",
       " 0.01692633649852393,\n",
       " 9.556419429745944e-05,\n",
       " 0.012447622127368163,\n",
       " 0.01276719375339841,\n",
       " 0.005949665731431075,\n",
       " 0.004249995332683554,\n",
       " 0.010476930433518383,\n",
       " 0.015381740306048997,\n",
       " 0.010747951728617977,\n",
       " 0.012740562784562925,\n",
       " 0.011888371781815898,\n",
       " 0.011360464011842097,\n",
       " 0.00744571159297891,\n",
       " 0.006273948964202525,\n",
       " 0.004138759850596863,\n",
       " 0.008750629065932714,\n",
       " 0.0037440069248013685,\n",
       " 0.005390415385880587,\n",
       " 0.0004370551824193214,\n",
       " 0.013863775082406882,\n",
       " 0.013672646693814627,\n",
       " 0.013730620238227687,\n",
       " 0.014817778353753752,\n",
       " 0.0013205887607430356,\n",
       " 0.0012939577919075518,\n",
       " 6.893322546019931e-05,\n",
       " 0.01489767126026198,\n",
       " 0.011919714357393474,\n",
       " 0.009975653632380066,\n",
       " 0.0001488261319675388,\n",
       " 0.0025675326892846684,\n",
       " 0.0003618738826549617,\n",
       " 0.0031534140036724168,\n",
       " 0.01564804999440561,\n",
       " 0.014236608646108984,\n",
       " 0.005341865054949935,\n",
       " 0.0016135294179360216,\n",
       " 0.01345959894312898,\n",
       " 0.0026207946269547477,\n",
       " 0.009229986504977639,\n",
       " 0.010375118164916763,\n",
       " 0.01514206158652609,\n",
       " 0.013699277662651,\n",
       " 0.026375618828493153,\n",
       " 0.0026474255957911197,\n",
       " 0.006433734777217204,\n",
       " 0.004218652757104202,\n",
       " 0.013011584079661631,\n",
       " 0.012532226640617594,\n",
       " 0.000601552602176092,\n",
       " 0.004276626301518149,\n",
       " 0.0028119230155487784,\n",
       " 0.021932958639656164,\n",
       " 0.0006548145398479477,\n",
       " 0.009363141349155946,\n",
       " 0.009869129757036355,\n",
       " 0.005581543774472841,\n",
       " 0.004884426978000178,\n",
       " 0.01231917888993106,\n",
       " 0.022172637359177294,\n",
       " 0.003664114018293141,\n",
       " 0.005816510887252768,\n",
       " 0.00547501989912913,\n",
       " 0.004329888239189117,\n",
       " 0.007574154830416013,\n",
       " 0.00385053080014508,\n",
       " 0.00325993787901524,\n",
       " 0.006407103808382608,\n",
       " 0.010534903977931442,\n",
       " 0.008932334241042561,\n",
       " 0.00744571159297891,\n",
       " 0.013677358300556719,\n",
       " 0.0050222934289196886,\n",
       " 0.0017686036242094971,\n",
       " 0.001586898449101426,\n",
       " 0.0031581256104145083,\n",
       " 0.005363784417043327,\n",
       " 0.016202588733216672,\n",
       " 0.02283841158007327,\n",
       " 0.008905703272206189,\n",
       " 0.0027006875334638636,\n",
       " 0.009092120054056352,\n",
       " 0.009815867819364499,\n",
       " 0.017161303611305634,\n",
       " 0.010588165915603298,\n",
       " 0.008000250331788195,\n",
       " 0.016686657779001912,\n",
       " 0.020303757933930022,\n",
       " 0.015190611917454966,\n",
       " 0.0011341719788919846,\n",
       " 0.0035262475673736304,\n",
       " 0.02019723405858631,\n",
       " 0.007046247060440436,\n",
       " 0.017241196517812085,\n",
       " 0.0166866577790028,\n",
       " 0.0074723425618143935,\n",
       " 0.013006872472920428,\n",
       " 0.016713288747838284,\n",
       " 0.008803891003605457,\n",
       " 0.004596197927547507,\n",
       " 0.003371173361101043,\n",
       " 9.085258755359149e-05,\n",
       " 0.001373850698414003,\n",
       " 0.013570834425213896,\n",
       " 0.017245908124554177,\n",
       " 0.006646782527904627,\n",
       " 0.013486229911963576,\n",
       " 0.011280571105334758,\n",
       " 0.0016934223244451374,\n",
       " 0.011675324031129364,\n",
       " 0.008750629065933602,\n",
       " 0.012106131139244525,\n",
       " 0.0011341719788928728,\n",
       " 0.011488907249279201,\n",
       " 0.017432324906405228,\n",
       " 0.0005482906645051244,\n",
       " 0.027440857581925826,\n",
       " 0.0025189823583549042,\n",
       " 0.017773815894528866,\n",
       " 0.0013472197295785193,\n",
       " 0.024675948429742967,\n",
       " 0.005630094105401717,\n",
       " 0.01727253909339055,\n",
       " 0.003952343068745812,\n",
       " 0.003637483049457657,\n",
       " 0.005315234086114451,\n",
       " 0.002705399140205067,\n",
       " 0.007871807094351979,\n",
       " 0.014018849288680357,\n",
       " 0.008958965209877157,\n",
       " 0.0017999461997879607,\n",
       " 0.00888378391011102,\n",
       " 0.003792557255732021,\n",
       " 0.0016887107177030458,\n",
       " 0.015696600325336263,\n",
       " 0.006988273516028265,\n",
       " 0.010321856227244908,\n",
       " 0.009443034255662397,\n",
       " 0.012793824722233893,\n",
       " 0.004702721802889442,\n",
       " 0.005523570230058006,\n",
       " 0.004329888239188229,\n",
       " 0.011919714357393474,\n",
       " 0.004671379227311867,\n",
       " 0.00046368615125569335,\n",
       " 0.0022793036388319976,\n",
       " 0.004223364363846294,\n",
       " 0.0021461487946536906,\n",
       " 0.012207943407846145,\n",
       " 0.000836519714956907,\n",
       " 0.0030782327039062807,\n",
       " 0.009731263306116844,\n",
       " 0.00839971486432578,\n",
       " 0.0008678622905344824,\n",
       " 0.011174047229991935,\n",
       " 0.0009164126214642465,\n",
       " 0.004751272133820095,\n",
       " 0.009869129757036355,\n",
       " 0.010295225258409424,\n",
       " 0.0039037927378169357,\n",
       " 0.011466987887185809,\n",
       " 0.014529549303302858,\n",
       " 0.0048891385847413815,\n",
       " 0.005283891510535987,\n",
       " 0.017991575251956604,\n",
       " 0.0043518076012842855,\n",
       " 0.00017545710080302257,\n",
       " 0.010237251713995477,\n",
       " 0.0006767339019413399,\n",
       " 0.020308469540672114,\n",
       " 9.556419429657126e-05,\n",
       " 0.011387094980676693,\n",
       " 0.006700044465575594,\n",
       " 0.006429023170476,\n",
       " 0.004671379227312755,\n",
       " 0.0041121288817596025,\n",
       " 0.009123462629633927,\n",
       " 0.0033131998166862076,\n",
       " 0.0003086119449822178,\n",
       " 0.009203355536141267,\n",
       " 0.0005482906645051244,\n",
       " 0.007494261923908674,\n",
       " 0.006588808983489791,\n",
       " 0.009331798773577482,\n",
       " 0.0063538418707107525,\n",
       " 0.009251905867071919,\n",
       " 0.0010542790723855333,\n",
       " 0.0032380185169209597,\n",
       " 0.009895760725872726,\n",
       " 0.003872450162238472,\n",
       " 0.005581543774471953,\n",
       " 0.02209274445267173,\n",
       " 0.0012359842474927163,\n",
       " 0.002540901720450073,\n",
       " 0.00888378391011102,\n",
       " 0.005048924397755172,\n",
       " 0.010423668495846528,\n",
       " 0.00198165137489692,\n",
       " 0.005261972148442595,\n",
       " 0.0001441145252263354,\n",
       " 0.004276626301518149,\n",
       " 0.0017733152309515887,\n",
       " 0.00409020951966621,\n",
       " 0.008506238739669492,\n",
       " 0.0067219638276698745,\n",
       " 0.0014224010293446554,\n",
       " 0.010210620745159993,\n",
       " 0.01599425258927134,\n",
       " 0.0005216596956696407,\n",
       " 0.005390415385879699,\n",
       " 0.006247317995367041,\n",
       " 0.001373850698414003,\n",
       " 0.0015289249046883668,\n",
       " 0.007285925779964231,\n",
       " 0.0031800449725079005,\n",
       " 0.013885694444501162,\n",
       " 0.011706666606707827,\n",
       " 0.01008217750772289,\n",
       " 0.003739295318060165,\n",
       " 0.007206032873456003,\n",
       " 0.011839821450886134,\n",
       " 0.011622062093458396,\n",
       " 0.010849763997218709,\n",
       " 0.012052869201572669,\n",
       " 0.01612269582671022,\n",
       " 0.0068598302785920495,\n",
       " 0.011462276280442829,\n",
       " 0.010241963320737568,\n",
       " 0.014396394459122774,\n",
       " 0.012367729220859935,\n",
       " 0.011409014342771862,\n",
       " 0.0022479610632544222,\n",
       " 0.005736617980746317,\n",
       " 0.0016354487800320783,\n",
       " 0.009869129757036355,\n",
       " 0.0013158771540018321,\n",
       " 0.0070415354536992325,\n",
       " 0.005124105697522197,\n",
       " 0.005789879918416396,\n",
       " 0.0021461487946536906,\n",
       " 0.0036061404738791936,\n",
       " 0.004276626301518149,\n",
       " 0.0007879693840271429,\n",
       " 0.004911057946834774,\n",
       " 0.0003618738826540735,\n",
       " 0.0034996165985372585,\n",
       " 0.014209977677271723,\n",
       " 0.013703989269392203,\n",
       " 0.0027006875334629754,\n",
       " 0.008666024552683282,\n",
       " 0.0046181172896408995,\n",
       " 0.0010276481035491614,\n",
       " 0.00861747422175263,\n",
       " 0.0021680681567470828,\n",
       " 0.009358429742414742,\n",
       " 0.009416403286827801,\n",
       " 0.007494261923908674,\n",
       " 0.010476930433517495,\n",
       " 0.0047559837405630745,\n",
       " 0.01095628787256242,\n",
       " 0.007605497405993589,\n",
       " 0.012687300846890182,\n",
       " 0.008670736159425374,\n",
       " 0.004511593414298076,\n",
       " 0.014076822833093416,\n",
       " 0.0027320301090396626,\n",
       " 0.0083777955022315,\n",
       " 0.009438322648922082,\n",
       " 0.0029936281906568496,\n",
       " 0.014130084770765272,\n",
       " 0.004058866944089523,\n",
       " 0.012341098252024452,\n",
       " 0.018519483021930405,\n",
       " 0.0019017584683886923,\n",
       " 0.005177367635193164,\n",
       " 0.00022871903847576647,\n",
       " 0.019797769526049613,\n",
       " 0.007845176125515607,\n",
       " 0.005763248949580024,\n",
       " 0.005581543774471953,\n",
       " 0.016473610028316266,\n",
       " 0.015909648076022798,\n",
       " 0.0018532081374589282,\n",
       " 0.0039304237066524195,\n",
       " 0.00839971486432578,\n",
       " 0.017001517798290955,\n",
       " 0.005630094105400829,\n",
       " 0.012314467283188968,\n",
       " 0.004298545663610653,\n",
       " 0.009815867819365387,\n",
       " 0.008297902595723272,\n",
       " 0.00041513582032504104,\n",
       " 0.009922391694707322,\n",
       " 0.005554912805635581,\n",
       " 0.01857745656634524,\n",
       " 0.0004370551824202096,\n",
       " 0.0030782327039062807,\n",
       " 0.013805801537992934,\n",
       " 0.011094154323483707,\n",
       " 0.0021461487946536906,\n",
       " 0.0076054974059927005,\n",
       " 0.008106774207131906,\n",
       " 0.0015022939358519949,\n",
       " 0.018683980441687176,\n",
       " 0.008266560020145697,\n",
       " 0.005124105697521308,\n",
       " 0.004218652757103314,\n",
       " 0.0024657204206839367,\n",
       " 0.005470308292387038,\n",
       " 0.010956287872561532,\n",
       " 0.011701954999964848,\n",
       " 0.00478261470939767,\n",
       " 0.004489674052203796,\n",
       " 0.0017419726553740134,\n",
       " 0.0005216596956696407,\n",
       " 0.006029558637938415,\n",
       " 0.007680678705759725,\n",
       " 0.01138238337393549,\n",
       " 0.006353841870709864,\n",
       " 0.006002927669102931,\n",
       " 0.012771905360139613,\n",
       " 0.004489674052203796,\n",
       " 0.014178635101694148,\n",
       " 0.0096780013684441,\n",
       " 0.011169335623248955,\n",
       " 0.0010010171347127894,\n",
       " 0.009309879411484978,\n",
       " 0.005341865054949935,\n",
       " 0.009278536835907403,\n",
       " 0.01447157575888891,\n",
       " 0.007281214173222139,\n",
       " 0.004036947581995243,\n",
       " 0.004676090834053959,\n",
       " 0.008000250331788195,\n",
       " 0.0007033648707786,\n",
       " 0.019189968849566696,\n",
       " 0.006806568340917529,\n",
       " 0.014502918334467374,\n",
       " 0.025017439417867493,\n",
       " 0.00419202178826783,\n",
       " 0.013539491849635432,\n",
       " 0.0001973764628981911,\n",
       " 0.01146698788718492,\n",
       " 0.010162070414230229,\n",
       " 0.010401749133752247,\n",
       " 0.007281214173221251,\n",
       " 0.014742597053989392,\n",
       " 0.0006281835710124639,\n",
       " 0.0002020880696402827,\n",
       " 0.010343775589339188,\n",
       " 0.007605497405993589,\n",
       " 0.01942964756909049,\n",
       " 0.02044162438485042,\n",
       " 0.00650891607698334,\n",
       " 0.012740562784561149,\n",
       " 0.013331155705690989,\n",
       " 0.006779937372083822,\n",
       " 0.007840464518774404,\n",
       " 0.008537581315247067,\n",
       " 0.007680678705759725,\n",
       " 0.014849120929331328,\n",
       " 0.0008098887461205351,\n",
       " 0.013703989269392203,\n",
       " 0.015328478368376253,\n",
       " 0.0021680681567461946,\n",
       " 0.018417670753329674,\n",
       " 0.004405069538955253,\n",
       " 0.004964319884505741,\n",
       " 0.006273948964202525,\n",
       " 0.004085497912925895,\n",
       " 0.0009963055279733624,\n",
       " 0.0043565192080237125,\n",
       " 0.012474253096205423,\n",
       " 0.011435645311607345,\n",
       " 0.006269237357461321,\n",
       " 0.006455654139311484,\n",
       " 0.0036108520806221733,\n",
       " 0.009225274898236435,\n",
       " 0.007760571612265288,\n",
       " 0.0025189823583549042,\n",
       " 0.0046447482584772715,\n",
       " 0.00797361936295271,\n",
       " 0.00392571209990944,\n",
       " 0.004809245678234042,\n",
       " 0.0034729856297017747,\n",
       " 0.02379712645816312,\n",
       " 0.02984235638388988,\n",
       " 0.006966354153933096,\n",
       " 0.010423668495846528,\n",
       " 0.00557683216773075,\n",
       " 0.009864418150294263,\n",
       " 0.0022479610632544222,\n",
       " 0.008857152941275537,\n",
       " 0.005102186335427028,\n",
       " 0.007520892892744158,\n",
       " 0.0004370551824202096,\n",
       " 0.010108808476559261,\n",
       " 0.019877662432556953,\n",
       " 0.016340455184136182,\n",
       " 0.006988273516027377,\n",
       " 0.0070681664225356045,\n",
       " 0.012825167297809692,\n",
       " 0.025470165888076046,\n",
       " 0.005124105697521308,\n",
       " 0.00744099998623593,\n",
       " 0.005337153448207843,\n",
       " 0.01037040655817556,\n",
       " 0.001662079748867562,\n",
       " 0.028452834397686644,\n",
       " 0.001906470075131672,\n",
       " 0.009363141349155946,\n",
       " 0.002066255888145463,\n",
       " 0.010476930433518383,\n",
       " 0.008084854845037626,\n",
       " 0.008004961938530286,\n",
       " 0.0029717088285625692,\n",
       " 0.012425702765273883,\n",
       " 0.001586898449101426,\n",
       " 0.009150093598470299,\n",
       " 1.567128778923177e-05,\n",
       " 0.010556823340026611,\n",
       " 0.007414369017400446,\n",
       " 0.01008217750772289,\n",
       " 0.00046839775799689676,\n",
       " 0.013890406051243254,\n",
       " 0.0006548145398479477,\n",
       " 0.0014490319981801392,\n",
       " 0.010108808476558373,\n",
       " 0.010241963320737568,\n",
       " 0.007440999986236818,\n",
       " 0.012425702765273883,\n",
       " 0.0029184468908916017,\n",
       " 0.004516305021040168,\n",
       " 0.011755216937637591,\n",
       " 0.007898438063186575,\n",
       " 0.0025675326892846684,\n",
       " 0.005608174743306549,\n",
       " 4.230225662471554e-05,\n",
       " 0.003344542392263783,\n",
       " 0.01069468979094701,\n",
       " 0.01199489565715961,\n",
       " 0.0015289249046883668,\n",
       " 0.004010316613158871,\n",
       " 0.0027852920467115183,\n",
       " 0.009416403286827801,\n",
       " 0.0004104242135847258,\n",
       " 0.010130727838651765,\n",
       " 0.011280571105334758,\n",
       " 0.0027539494711357193,\n",
       " 0.0012093532786581207,\n",
       " 0.013677358300556719,\n",
       " 0.02533701104389685,\n",
       " 0.00219941073232377,\n",
       " 0.006913092216263017,\n",
       " 0.009283248442647718,\n",
       " 0.006540258652560915,\n",
       " 0.0021414371879098226,\n",
       " 0.00427191469477517,\n",
       " 0.0002240074317327867,\n",
       " 0.003051601735071685,\n",
       " 0.004409781145696456,\n",
       " 0.004591486320805416,\n",
       " 0.002385827514174821,\n",
       " 0.0007566268084495675,\n",
       " 0.003552878536209114,\n",
       " 0.0026787681713695832,\n",
       " 0.02240760447195811,\n",
       " 0.014929013835838667,\n",
       " 0.013490941518705668,\n",
       " 0.002434377845104585,\n",
       " 0.0004104242135838376,\n",
       " 0.00515073666635768,\n",
       " 0.015781204838584806,\n",
       " 0.01572794290091384,\n",
       " 0.00946966522449788,\n",
       " 0.015962910013693765,\n",
       " 0.001746684262116105,\n",
       " 0.007632128374829961,\n",
       " 0.009278536835907403,\n",
       " 0.004698010196149127,\n",
       " 0.024409638741385464,\n",
       " 0.012767193753396633,\n",
       " 0.0013472197295785193,\n",
       " 0.013224631830348166,\n",
       " 0.010934368510469028,\n",
       " 0.01101426141697548,\n",
       " 0.005736617980743652,\n",
       " 0.002865184953220634,\n",
       " 0.011781847906473963,\n",
       " 0.008905703272206189,\n",
       " 0.0010276481035491614,\n",
       " 0.0023811159074336175,\n",
       " 0.0034244352987720106,\n",
       " 0.0019597320128017515,\n",
       " 0.005630094105400829,\n",
       " 0.00453822438313356,\n",
       " 0.0027852920467124065,\n",
       " 0.002066255888145463,\n",
       " 0.009837787181459667,\n",
       " 0.014152004132858664,\n",
       " 0.029491442182282945,\n",
       " 0.003637483049457657,\n",
       " 0.01010409686981717,\n",
       " 0.004964319884507518,\n",
       " 0.0025456133271895,\n",
       " 0.005395126992620902,\n",
       " 0.004489674052203796,\n",
       " 0.0024876397827764407,\n",
       " 0.01530184739953988,\n",
       " 0.013805801537993823,\n",
       " 0.0011874339165638403,\n",
       " 9.085258755447967e-05,\n",
       " 0.007121428360206572,\n",
       " 0.0017153416865394178,\n",
       " 0.011174047229991046,\n",
       " 0.00797361936295271,\n",
       " 0.01188837178181501,\n",
       " 0.0028604733464785426,\n",
       " 0.008564212284081663,\n",
       " 0.027072735624966704,\n",
       " 0.006588808983490679,\n",
       " 0.018976921098881938,\n",
       " 0.0023811159074336175,\n",
       " 0.002092886856982723,\n",
       " 0.008138116782709481,\n",
       " 0.003983685644323387,\n",
       " 0.00046839775799689676,\n",
       " 0.001746684262116105,\n",
       " 0.00019737646289730293,\n",
       " 0.0036327714427155655,\n",
       " 0.012873717628739456,\n",
       " 0.006060901213516878,\n",
       " 0.00257224429602676,\n",
       " 0.00219941073232377,\n",
       " 0.0029137352841503983,\n",
       " 0.003451066267606606,\n",
       " 0.0038191882245675046,\n",
       " 0.017751896532433697,\n",
       " 0.01588772871392763,\n",
       " 0.009464953617757565,\n",
       " 0.0011608029477283566,\n",
       " 0.0034729856297008865,\n",
       " 0.009363141349156834,\n",
       " 9.085258755359149e-05,\n",
       " 0.0070415354536992325,\n",
       " 0.00057492163333972,\n",
       " 0.0032066759413442725,\n",
       " 0.004112128881761379,\n",
       " 0.015297135792799565,\n",
       " 0.012261205345517112,\n",
       " 0.0063005799330380086,\n",
       " 0.0028918159220552297,\n",
       " 0.009225274898234659,\n",
       " 0.00523062957286502,\n",
       " 0.0029184468908916017,\n",
       " 0.006620151559068255,\n",
       " 0.009891049119129747,\n",
       " 0.01385906347566479,\n",
       " 0.01066805882210975,\n",
       " 0.00856421228408255,\n",
       " 0.02070322246646672,\n",
       " 0.004405069538954365,\n",
       " 0.0019597320128026396,\n",
       " 0.011195966592086215,\n",
       " 0.018417670753329674,\n",
       " 0.014791147384918268,\n",
       " 0.006828487703013586,\n",
       " 0.007392449655306166,\n",
       " 0.0025189823583549042,\n",
       " 0.005203998604028648,\n",
       " 0.01120067819882653,\n",
       " 0.008670736159425374,\n",
       " 0.004405069538954365,\n",
       " 0.0032646494857573316,\n",
       " 0.01239436018969542,\n",
       " 4.230225662471554e-05,\n",
       " 0.010561534946767814,\n",
       " 0.012718643422468645,\n",
       " 0.01146698788718492,\n",
       " 0.0036641140182949172,\n",
       " 0.013118107955004454,\n",
       " 0.009891049119129747,\n",
       " 0.018098099127300316,\n",
       " 0.009651370399607728,\n",
       " 0.0027852920467124065,\n",
       " 0.0021461487946536906,\n",
       " 0.005182079241935256,\n",
       " 0.0037173759559658848,\n",
       " 0.0019331010439662677,\n",
       " 0.0022793036388319976,\n",
       " 0.006535547045819712,\n",
       " 0.014871040291426496,\n",
       " 0.004649459865218475,\n",
       " 0.012074788563666061,\n",
       " 0.01628248163972401,\n",
       " 0.004831165040326546,\n",
       " 0.007840464518773516,\n",
       " 0.008239929051311101,\n",
       " 0.005017581822178485,\n",
       " 0.006349130263968661,\n",
       " 0.027068024018224612,\n",
       " 0.007174690297878428,\n",
       " 0.008186667113638357,\n",
       " 0.009043569723127476,\n",
       " 0.009389772317992318,\n",
       " 0.0012892461851663484,\n",
       " 0.026056047202463795,\n",
       " 0.01932312369374678,\n",
       " 0.004884426978000178,\n",
       " 0.0013957700605082834,\n",
       " 0.0010276481035500495,\n",
       " 0.003739295318059277,\n",
       " 0.007121428360206572,\n",
       " 0.0025142707516128127,\n",
       " 0.003978974037581295,\n",
       " 0.001906470075130784,\n",
       " 0.0004950287268341569,\n",
       " 0.010321856227246684,\n",
       " 0.001427112636086747,\n",
       " 0.008058223876200366,\n",
       " 0.0027852920467124065,\n",
       " 0.0037440069248013685,\n",
       " 0.005124105697522197,\n",
       " 0.0083777955022315,\n",
       " 0.00779191418784464,\n",
       " 0.005128817304264288,\n",
       " 0.005843141856087364,\n",
       " 0.0022213300944198267,\n",
       " 0.005337153448207843,\n",
       " 0.0011028294033144093,\n",
       " 0.002807211408806687,\n",
       " 0.0017419726553740134,\n",
       " 0.0033930927231953234,\n",
       " 0.0031800449725087887,\n",
       " 0.0018532081374598164,\n",
       " 0.0012406958542365842,\n",
       " 0.01037040655817556,\n",
       " 0.0038458191934021,\n",
       " 0.0083777955022315,\n",
       " 0.004325176632448802,\n",
       " 0.01718793458014023,\n",
       " 0.003419723692029919,\n",
       " 0.015350397730469645,\n",
       " 0.005261972148441707,\n",
       " 0.020974243761566314,\n",
       " 0.006429023170476,\n",
       " 0.0032912804545937036,\n",
       " 0.004218652757104202,\n",
       " 0.002066255888146351,\n",
       " 0.010317144620502816,\n",
       " 0.0008098887461223114,\n",
       " 0.006828487703013586,\n",
       " 0.008186667113638357,\n",
       " 0.016952967467360303,\n",
       " 0.009043569723127476,\n",
       " 0.006380472839548013,\n",
       " 0.005901115400500423,\n",
       " 0.007680678705758837,\n",
       " 0.007685390312500928,\n",
       " 0.009150093598470299,\n",
       " 0.004809245678233154,\n",
       " 0.006269237357461321,\n",
       " 0.01120067819882653,\n",
       " 0.01556815708789916,\n",
       " 0.013379706036621641,\n",
       " 0.004484962445461704,\n",
       " 0.013992218319844874,\n",
       " 0.0007033648707777118,\n",
       " 0.024671236823001763,\n",
       " 0.005257260541700504,\n",
       " 0.0009211242282072263,\n",
       " 0.010397037527011044,\n",
       " 0.008617474221753518,\n",
       " 0.013219920223606074,\n",
       " 0.0018751274995532086,\n",
       " 0.00041513582032504104,\n",
       " 0.007046247060441324,\n",
       " 0.01676655068551014,\n",
       " 0.005981008307009539,\n",
       " 0.008111485813873998,\n",
       " 0.0037392953180583888,\n",
       " 0.018466221084260326,\n",
       " 0.014578099634231734,\n",
       " 0.013411048612198329,\n",
       " 0.01266066987805381,\n",
       " 0.005102186335427916,\n",
       " 0.0055282818368000974,\n",
       " 0.00650891607698334,\n",
       " 0.010827844635125317,\n",
       " 0.005714698618651148,\n",
       " 0.01644226745273869,\n",
       " 0.006034270244680506,\n",
       " 0.021262472812018984,\n",
       " 0.008404426471066984,\n",
       " 0.002705399140204179,\n",
       " 0.021853065733147936,\n",
       " 0.004804534071491062,\n",
       " 0.005581543774472841,\n",
       " 0.007813833549938032,\n",
       " 0.0012093532786572325,\n",
       " 0.0045695669587120236,\n",
       " 0.0012939577919075518,\n",
       " 0.010401749133752247,\n",
       " 0.023371030956789163,\n",
       " 0.0002240074317327867,\n",
       " 0.003371173361100155,\n",
       " 0.007232663842292375,\n",
       " 0.014316501552615435,\n",
       " 0.005235341179607111,\n",
       " 0.0011874339165638403,\n",
       " 0.0029137352841503983,\n",
       " 0.019456278537925975,\n",
       " 0.01010409686981717,\n",
       " 0.004170102426174438,\n",
       " 0.005337153448207843,\n",
       " ...]"
      ]
     },
     "execution_count": 219,
     "metadata": {},
     "output_type": "execute_result"
    }
   ],
   "source": [
    "differences"
   ]
  },
  {
   "cell_type": "code",
   "execution_count": 226,
   "metadata": {},
   "outputs": [
    {
     "data": {
      "text/plain": [
       "-0.1420605474512291"
      ]
     },
     "execution_count": 226,
     "metadata": {},
     "output_type": "execute_result"
    }
   ],
   "source": [
    "apple.mean()-google.mean()"
   ]
  },
  {
   "cell_type": "code",
   "execution_count": 224,
   "metadata": {
    "colab": {},
    "colab_type": "code",
    "id": "VlzpYTkYFcv_"
   },
   "outputs": [
    {
     "data": {
      "image/png": "[encoded data removed]",
      "text/plain": [
       "<Figure size 432x288 with 1 Axes>"
      ]
     },
     "metadata": {
      "needs_background": "light"
     },
     "output_type": "display_data"
    }
   ],
   "source": [
    "# Make a variable called 'histo', and assign to it the result of plotting a histogram of the difference list. \n",
    "histo = plt.hist(differences,bins=10)"
   ]
  },
  {
   "cell_type": "code",
   "execution_count": 228,
   "metadata": {
    "colab": {},
    "colab_type": "code",
    "id": "KhqgDFd3FcwB"
   },
   "outputs": [
    {
     "name": "stdout",
     "output_type": "stream",
     "text": [
      "0.1420605474512291\n"
     ]
    }
   ],
   "source": [
    "# Now make a variable called obs_difference, and assign it the result of the mean of our 'apple' variable and the mean of our 'google variable'\n",
    "obs_difference = apple.mean()-google.mean()\n",
    "\n",
    "# Make this difference absolute with the built-in abs() function. \n",
    "obs_difference = abs(obs_difference)\n",
    "\n",
    "# Print out this value; it should be 0.1420605474512291. \n",
    "print(obs_difference)"
   ]
  },
  {
   "cell_type": "markdown",
   "metadata": {
    "colab_type": "text",
    "id": "QUNuuSgDFcwE"
   },
   "source": [
    "## Stage 4 -  Evaluating and concluding\n",
    "### 4a. What is our conclusion?"
   ]
  },
  {
   "cell_type": "code",
   "execution_count": null,
   "metadata": {
    "colab": {},
    "colab_type": "code",
    "id": "XMQHnqx1FcwF"
   },
   "outputs": [],
   "source": [
    "'''\n",
    "What do we know? \n",
    "\n",
    "Recall: The p-value of our observed data is just the proportion of the data given the null that's at least as extreme as that observed data.\n",
    "\n",
    "As a result, we're going to count how many of the differences in our difference list are at least as extreme as our observed difference.\n",
    "\n",
    "If less than or equal to 5% of them are, then we will reject the Null. \n",
    "'''\n",
    "'''\n",
    "We see that the difference between the mean rating value of the obeserved apple and google app  is 0.14206,\n",
    "while the difference between the mean permutated rating value is very less compared to the observed difference\n",
    "as can be seen form the distribution of the histogram. \n",
    "'''"
   ]
  },
  {
   "cell_type": "markdown",
   "metadata": {
    "colab_type": "text",
    "id": "4RTofY9wFcwI"
   },
   "source": [
    "### 4b. What is our decision?\n",
    "So actually, zero differences are at least as extreme as our observed difference!\n",
    "\n",
    "So the p-value of our observed data is 0. \n",
    "\n",
    "It doesn't matter which significance level we pick; our observed data is statistically significant, and we reject the Null.\n",
    "\n",
    "We conclude that platform does impact on ratings. Specifically, we should advise our client to integrate **only Google Play** into their operating system interface. "
   ]
  },
  {
   "cell_type": "markdown",
   "metadata": {
    "colab_type": "text",
    "id": "Cu_eh7fTFcwJ"
   },
   "source": [
    "### 4c. Other statistical tests, and next steps\n",
    "The test we used here is the Permutation test. This was appropriate because our data were not normally distributed! \n",
    "\n",
    "As we've seen in Professor Spiegelhalter's book, there are actually many different statistical tests, all with different assumptions. How many of these different statistical tests can you remember? How much do you remember about what the appropriate conditions are under which to use them? \n",
    "\n",
    "Make a note of your answers to these questions, and discuss them with your mentor at your next call. \n"
   ]
  }
 ],
 "metadata": {
  "colab": {
   "collapsed_sections": [
    "5fbRq2MZFcvq",
    "4RTofY9wFcwI",
    "Cu_eh7fTFcwJ"
   ],
   "name": "Springboard Apps project - Tier 3 - Complete.ipynb",
   "provenance": []
  },
  "kernelspec": {
   "display_name": "Python 3",
   "language": "python",
   "name": "python3"
  },
  "language_info": {
   "codemirror_mode": {
    "name": "ipython",
    "version": 3
   },
   "file_extension": ".py",
   "mimetype": "text/x-python",
   "name": "python",
   "nbconvert_exporter": "python",
   "pygments_lexer": "ipython3",
   "version": "3.6.3"
  }
 },
 "nbformat": 4,
 "nbformat_minor": 1
}
